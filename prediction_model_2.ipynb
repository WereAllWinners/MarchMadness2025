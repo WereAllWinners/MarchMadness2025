{
 "cells": [
  {
   "cell_type": "code",
   "execution_count": 13,
   "id": "57ee55bd-b6cd-4cf2-963b-45e26b5d6be6",
   "metadata": {},
   "outputs": [],
   "source": [
    "import pandas as pd"
   ]
  },
  {
   "cell_type": "code",
   "execution_count": 21,
   "id": "9e2fcd58-abe7-43a3-a742-eafd078226e2",
   "metadata": {},
   "outputs": [
    {
     "name": "stdout",
     "output_type": "stream",
     "text": [
      "  Seed  GameRound GameSlot  EarlyDayNum  LateDayNum\n",
      "0  W01          1     R1W1          136         137\n",
      "1  W01          2     R2W1          138         139\n",
      "2  W01          3     R3W1          143         144\n",
      "3  W01          4     R4W1          145         146\n",
      "4  W01          5     R5WX          152         152\n"
     ]
    }
   ],
   "source": [
    "seed_rd_slot= pd.read_csv(\"data/MNCAATourneySeedRoundSlots.csv\")\n",
    "print(seed_rd_slot.head())"
   ]
  },
  {
   "cell_type": "code",
   "execution_count": 24,
   "id": "5b0b9281-d012-4419-8d9b-ea02d74a9b3a",
   "metadata": {},
   "outputs": [
    {
     "name": "stdout",
     "output_type": "stream",
     "text": [
      "  Seed  GameRound GameSlot  EarlyDayNum  LateDayNum\n",
      "0  W01          1     R1W1          136         137\n",
      "1  W01          2     R2W1          138         139\n",
      "2  W01          3     R3W1          143         144\n",
      "3  W01          4     R4W1          145         146\n",
      "4  W01          5     R5WX          152         152\n"
     ]
    }
   ],
   "source": [
    "seeds = pd.read_csv(\"data/MNCAATourneySeedRoundSlots.csv\")\n",
    "print(seeds.head())"
   ]
  },
  {
   "cell_type": "code",
   "execution_count": 33,
   "id": "b479b550-8f58-4ac8-a4cf-81519f4702b3",
   "metadata": {},
   "outputs": [
    {
     "name": "stdout",
     "output_type": "stream",
     "text": [
      "Index(['tourn_Season', 'tourn_WTeamID', 'tourn_WTeamName', 'tourn_WScore',\n",
      "       'tourn_LTeamID', 'tourn_LTeamName', 'tourn_LScore', 'tourn_WLoc',\n",
      "       'tourn_NumOT', 'tourn_WFGM', 'tourn_WFGA', 'tourn_WFGM3', 'tourn_WFGA3',\n",
      "       'tourn_WFTM', 'tourn_WFTA', 'tourn_WOR', 'tourn_WDR', 'tourn_WAst',\n",
      "       'tourn_WTO', 'tourn_WStl', 'tourn_WBlk', 'tourn_WPF', 'tourn_LFGM',\n",
      "       'tourn_LFGA', 'tourn_LFGM3', 'tourn_LFGA3', 'tourn_LFTM', 'tourn_LFTA',\n",
      "       'tourn_LOR', 'tourn_LDR', 'tourn_LAst', 'tourn_LTO', 'tourn_LStl',\n",
      "       'tourn_LBlk', 'tourn_LPF'],\n",
      "      dtype='object')\n",
      "Index(['Seed', 'GameRound', 'GameSlot', 'EarlyDayNum', 'LateDayNum', 'region',\n",
      "       'seed_num', 'sub_seed'],\n",
      "      dtype='object')\n"
     ]
    }
   ],
   "source": [
    "print(historical_data.columns)\n",
    "print(seeds.columns)\n"
   ]
  },
  {
   "cell_type": "code",
   "execution_count": 31,
   "id": "52c509f1-4937-4d36-a110-d23096e71cc6",
   "metadata": {},
   "outputs": [
    {
     "name": "stdout",
     "output_type": "stream",
     "text": [
      "Index(['Seed', 'GameRound', 'GameSlot', 'EarlyDayNum', 'LateDayNum', 'region',\n",
      "       'seed_num', 'sub_seed'],\n",
      "      dtype='object')\n"
     ]
    }
   ],
   "source": [
    "print(seeds.columns)\n"
   ]
  },
  {
   "cell_type": "code",
   "execution_count": 26,
   "id": "015aac8e-427b-41b2-b547-2209e4748653",
   "metadata": {},
   "outputs": [
    {
     "name": "stdout",
     "output_type": "stream",
     "text": [
      "['W01' 'W02' 'W03' 'W04' 'W05' 'W06' 'W07' 'W08' 'W09' 'W10' 'W10a' 'W10b'\n",
      " 'W11' 'W11a' 'W11b' 'W12' 'W12a' 'W12b' 'W13' 'W13a' 'W13b' 'W14' 'W14a'\n",
      " 'W14b' 'W15' 'W15a' 'W15b' 'W16' 'W16a' 'W16b' 'X01' 'X02' 'X03' 'X04'\n",
      " 'X05' 'X06' 'X07' 'X08' 'X09' 'X10' 'X10a' 'X10b' 'X11' 'X11a' 'X11b'\n",
      " 'X12' 'X12a' 'X12b' 'X13' 'X13a' 'X13b' 'X14' 'X14a' 'X14b' 'X15' 'X15a'\n",
      " 'X15b' 'X16' 'X16a' 'X16b' 'Y01' 'Y02' 'Y03' 'Y04' 'Y05' 'Y06' 'Y07'\n",
      " 'Y08' 'Y09' 'Y10' 'Y10a' 'Y10b' 'Y11' 'Y11a' 'Y11b' 'Y12' 'Y12a' 'Y12b'\n",
      " 'Y13' 'Y13a' 'Y13b' 'Y14' 'Y14a' 'Y14b' 'Y15' 'Y15a' 'Y15b' 'Y16' 'Y16a'\n",
      " 'Y16b' 'Z01' 'Z02' 'Z03' 'Z04' 'Z05' 'Z06' 'Z07' 'Z08' 'Z09' 'Z10' 'Z10a'\n",
      " 'Z10b' 'Z11' 'Z11a' 'Z11b' 'Z12' 'Z12a' 'Z12b' 'Z13' 'Z13a' 'Z13b' 'Z14'\n",
      " 'Z14a' 'Z14b' 'Z15' 'Z15a' 'Z15b' 'Z16' 'Z16a' 'Z16b']\n"
     ]
    }
   ],
   "source": [
    "print(seeds['Seed'].unique())\n"
   ]
  },
  {
   "cell_type": "code",
   "execution_count": 27,
   "id": "23ce23a6-4d92-46ae-b63f-ba08697045a7",
   "metadata": {},
   "outputs": [],
   "source": [
    "# Extract region and numeric seed safely\n",
    "seeds['region'] = seeds['Seed'].str[0]  # First character is the region (W, X, Y, Z)\n",
    "seeds['seed_num'] = seeds['Seed'].str.extract(r'(\\d+)').astype(int)  # Extract numeric part"
   ]
  },
  {
   "cell_type": "code",
   "execution_count": 29,
   "id": "4b06cca9-3542-4db8-af13-ea08db686bf5",
   "metadata": {},
   "outputs": [],
   "source": [
    "# Flag sub-seeds (e.g., a, b)\n",
    "seeds['sub_seed'] = seeds['Seed'].str.extract(r'([a-z])')  # Extract 'a' or 'b'"
   ]
  },
  {
   "cell_type": "code",
   "execution_count": 14,
   "id": "9a4c8df9-a6eb-4dd4-90fe-61e8fd9dca83",
   "metadata": {},
   "outputs": [],
   "source": [
    "#load historical data:\n",
    "historical_data = pd.read_csv(\"data/MNCAATourneyDetailedResults_Cleaned.csv\")\n",
    "regular_season_data = pd.read_csv(\"data/Regular_Season_Filtered_By_Bracket.csv\")"
   ]
  },
  {
   "cell_type": "code",
   "execution_count": 15,
   "id": "b1832866-6d67-4857-a56e-04decdb7a0d3",
   "metadata": {},
   "outputs": [],
   "source": [
    "# Clean the data\n",
    "historical_data.dropna(inplace=True)  # Remove rows with missing values\n",
    "regular_season_data.dropna(inplace=True)"
   ]
  },
  {
   "cell_type": "code",
   "execution_count": 16,
   "id": "e1d2e570-c4d0-42dd-9cd9-4948689bc0c6",
   "metadata": {},
   "outputs": [
    {
     "name": "stdout",
     "output_type": "stream",
     "text": [
      "   tourn_Season  tourn_WTeamID tourn_WTeamName  tourn_WScore  tourn_LTeamID  \\\n",
      "0          2003           1421   UNC Asheville            92           1411   \n",
      "1          2003           1112         Arizona            80           1436   \n",
      "2          2003           1113      Arizona St            84           1272   \n",
      "3          2003           1141      C Michigan            79           1166   \n",
      "4          2003           1143      California            76           1301   \n",
      "\n",
      "  tourn_LTeamName  tourn_LScore tourn_WLoc  tourn_NumOT  tourn_WFGM  ...  \\\n",
      "0     TX Southern            84          N            1          32  ...   \n",
      "1         Vermont            51          N            0          31  ...   \n",
      "2         Memphis            71          N            0          31  ...   \n",
      "3       Creighton            73          N            0          29  ...   \n",
      "4        NC State            74          N            1          27  ...   \n",
      "\n",
      "   tourn_LFGA3  tourn_LFTM  tourn_LFTA  tourn_LOR  tourn_LDR  tourn_LAst  \\\n",
      "0           31          14          31         17         28          16   \n",
      "1           16           7           7          8         26          12   \n",
      "2           28          14          21         20         22          11   \n",
      "3           17          12          17         14         17          20   \n",
      "4           21          15          20         10         26          16   \n",
      "\n",
      "   tourn_LTO  tourn_LStl  tourn_LBlk  tourn_LPF  \n",
      "0         15           5           0         22  \n",
      "1         17          10           3         15  \n",
      "2         12           2           5         18  \n",
      "3         21           6           6         21  \n",
      "4         14           5           8         19  \n",
      "\n",
      "[5 rows x 35 columns]\n"
     ]
    }
   ],
   "source": [
    "print(historical_data.head())"
   ]
  },
  {
   "cell_type": "code",
   "execution_count": 19,
   "id": "53fb9bdf-29f9-4c67-bebd-21ce3e3c3d01",
   "metadata": {},
   "outputs": [
    {
     "name": "stdout",
     "output_type": "stream",
     "text": [
      "   season_Season  season_WTeamID season_WTeamName  season_WScore  \\\n",
      "0           2023            1103            Akron             81   \n",
      "1           2023            1104          Alabama             75   \n",
      "2           2023            1112          Arizona            117   \n",
      "3           2023            1116         Arkansas             76   \n",
      "4           2023            1120           Auburn             70   \n",
      "\n",
      "   season_LTeamID season_LTeamName  season_LScore season_WLoc  season_NumOT  \\\n",
      "0            1355      S Dakota St             80           H             1   \n",
      "1            1255         Longwood             54           H             0   \n",
      "2            1311      Nicholls St             75           H             0   \n",
      "3            1295      N Dakota St             58           H             0   \n",
      "4            1206     George Mason             52           H             0   \n",
      "\n",
      "   season_WFGM  ...  season_LFGA3  season_LFTM  season_LFTA  season_LOR  \\\n",
      "0           30  ...            15           14           17           5   \n",
      "1           27  ...            13           11           19          12   \n",
      "2           38  ...            18           10           22           8   \n",
      "3           28  ...            21           15           23           7   \n",
      "4           24  ...            20            3            8           7   \n",
      "\n",
      "   season_LDR  season_LAst  season_LTO  season_LStl  season_LBlk  season_LPF  \n",
      "0          28           11          12            3            4          15  \n",
      "1          23            8           9            8            3          22  \n",
      "2          14           11          16           17            1          29  \n",
      "3          25            7          14            5            2          16  \n",
      "4          24            9          19            3            4          23  \n",
      "\n",
      "[5 rows x 35 columns]\n"
     ]
    }
   ],
   "source": [
    "print(regular_season_data.head())"
   ]
  },
  {
   "cell_type": "code",
   "execution_count": 20,
   "id": "80b5430d-9727-469e-83dd-6f55252ebdfb",
   "metadata": {},
   "outputs": [
    {
     "name": "stdout",
     "output_type": "stream",
     "text": [
      "Index(['tourn_Season', 'tourn_WTeamID', 'tourn_WTeamName', 'tourn_WScore',\n",
      "       'tourn_LTeamID', 'tourn_LTeamName', 'tourn_LScore', 'tourn_WLoc',\n",
      "       'tourn_NumOT', 'tourn_WFGM', 'tourn_WFGA', 'tourn_WFGM3', 'tourn_WFGA3',\n",
      "       'tourn_WFTM', 'tourn_WFTA', 'tourn_WOR', 'tourn_WDR', 'tourn_WAst',\n",
      "       'tourn_WTO', 'tourn_WStl', 'tourn_WBlk', 'tourn_WPF', 'tourn_LFGM',\n",
      "       'tourn_LFGA', 'tourn_LFGM3', 'tourn_LFGA3', 'tourn_LFTM', 'tourn_LFTA',\n",
      "       'tourn_LOR', 'tourn_LDR', 'tourn_LAst', 'tourn_LTO', 'tourn_LStl',\n",
      "       'tourn_LBlk', 'tourn_LPF'],\n",
      "      dtype='object')\n"
     ]
    }
   ],
   "source": [
    "print(historical_data.columns)\n"
   ]
  },
  {
   "cell_type": "code",
   "execution_count": 18,
   "id": "262c988a-9e0f-4f6d-8492-4f0e8497f197",
   "metadata": {},
   "outputs": [
    {
     "ename": "KeyError",
     "evalue": "'winner_seed'",
     "output_type": "error",
     "traceback": [
      "\u001b[0;31m---------------------------------------------------------------------------\u001b[0m",
      "\u001b[0;31mKeyError\u001b[0m                                  Traceback (most recent call last)",
      "File \u001b[0;32m/opt/conda/lib/python3.12/site-packages/pandas/core/indexes/base.py:3802\u001b[0m, in \u001b[0;36mIndex.get_loc\u001b[0;34m(self, key)\u001b[0m\n\u001b[1;32m   3801\u001b[0m \u001b[38;5;28;01mtry\u001b[39;00m:\n\u001b[0;32m-> 3802\u001b[0m     \u001b[38;5;28;01mreturn\u001b[39;00m \u001b[38;5;28;43mself\u001b[39;49m\u001b[38;5;241;43m.\u001b[39;49m\u001b[43m_engine\u001b[49m\u001b[38;5;241;43m.\u001b[39;49m\u001b[43mget_loc\u001b[49m\u001b[43m(\u001b[49m\u001b[43mcasted_key\u001b[49m\u001b[43m)\u001b[49m\n\u001b[1;32m   3803\u001b[0m \u001b[38;5;28;01mexcept\u001b[39;00m \u001b[38;5;167;01mKeyError\u001b[39;00m \u001b[38;5;28;01mas\u001b[39;00m err:\n",
      "File \u001b[0;32mindex.pyx:153\u001b[0m, in \u001b[0;36mpandas._libs.index.IndexEngine.get_loc\u001b[0;34m()\u001b[0m\n",
      "File \u001b[0;32mindex.pyx:182\u001b[0m, in \u001b[0;36mpandas._libs.index.IndexEngine.get_loc\u001b[0;34m()\u001b[0m\n",
      "File \u001b[0;32mpandas/_libs/hashtable_class_helper.pxi:7081\u001b[0m, in \u001b[0;36mpandas._libs.hashtable.PyObjectHashTable.get_item\u001b[0;34m()\u001b[0m\n",
      "File \u001b[0;32mpandas/_libs/hashtable_class_helper.pxi:7089\u001b[0m, in \u001b[0;36mpandas._libs.hashtable.PyObjectHashTable.get_item\u001b[0;34m()\u001b[0m\n",
      "\u001b[0;31mKeyError\u001b[0m: 'winner_seed'",
      "\nThe above exception was the direct cause of the following exception:\n",
      "\u001b[0;31mKeyError\u001b[0m                                  Traceback (most recent call last)",
      "Cell \u001b[0;32mIn[18], line 6\u001b[0m\n\u001b[1;32m      1\u001b[0m \u001b[38;5;66;03m#ID upset patterns:\u001b[39;00m\n\u001b[1;32m      2\u001b[0m \u001b[38;5;66;03m#Focus on games where a lower-seeded team defeated a higher-seeded team.\u001b[39;00m\n\u001b[1;32m      3\u001b[0m \u001b[38;5;66;03m#Analyze statistical differences, such as turnovers, three-point shooting, rebounding, and scoring efficiency.\u001b[39;00m\n\u001b[1;32m      4\u001b[0m \n\u001b[1;32m      5\u001b[0m \u001b[38;5;66;03m#create feature called is_upset:\u001b[39;00m\n\u001b[0;32m----> 6\u001b[0m historical_data[\u001b[38;5;124m'\u001b[39m\u001b[38;5;124mis_upset\u001b[39m\u001b[38;5;124m'\u001b[39m] \u001b[38;5;241m=\u001b[39m \u001b[43mhistorical_data\u001b[49m\u001b[43m[\u001b[49m\u001b[38;5;124;43m'\u001b[39;49m\u001b[38;5;124;43mwinner_seed\u001b[39;49m\u001b[38;5;124;43m'\u001b[39;49m\u001b[43m]\u001b[49m \u001b[38;5;241m>\u001b[39m historical_data[\u001b[38;5;124m'\u001b[39m\u001b[38;5;124mloser_seed\u001b[39m\u001b[38;5;124m'\u001b[39m]\n\u001b[1;32m      8\u001b[0m \u001b[38;5;66;03m#use groupby to examine average stats for upsets:\u001b[39;00m\n\u001b[1;32m      9\u001b[0m upset_stats \u001b[38;5;241m=\u001b[39m historical_data[historical_data[\u001b[38;5;124m'\u001b[39m\u001b[38;5;124mis_upset\u001b[39m\u001b[38;5;124m'\u001b[39m]]\u001b[38;5;241m.\u001b[39mgroupby(\u001b[38;5;124m'\u001b[39m\u001b[38;5;124mwinner_seed\u001b[39m\u001b[38;5;124m'\u001b[39m)\u001b[38;5;241m.\u001b[39mmean()\n",
      "File \u001b[0;32m/opt/conda/lib/python3.12/site-packages/pandas/core/frame.py:4090\u001b[0m, in \u001b[0;36mDataFrame.__getitem__\u001b[0;34m(self, key)\u001b[0m\n\u001b[1;32m   4088\u001b[0m \u001b[38;5;28;01mif\u001b[39;00m \u001b[38;5;28mself\u001b[39m\u001b[38;5;241m.\u001b[39mcolumns\u001b[38;5;241m.\u001b[39mnlevels \u001b[38;5;241m>\u001b[39m \u001b[38;5;241m1\u001b[39m:\n\u001b[1;32m   4089\u001b[0m     \u001b[38;5;28;01mreturn\u001b[39;00m \u001b[38;5;28mself\u001b[39m\u001b[38;5;241m.\u001b[39m_getitem_multilevel(key)\n\u001b[0;32m-> 4090\u001b[0m indexer \u001b[38;5;241m=\u001b[39m \u001b[38;5;28;43mself\u001b[39;49m\u001b[38;5;241;43m.\u001b[39;49m\u001b[43mcolumns\u001b[49m\u001b[38;5;241;43m.\u001b[39;49m\u001b[43mget_loc\u001b[49m\u001b[43m(\u001b[49m\u001b[43mkey\u001b[49m\u001b[43m)\u001b[49m\n\u001b[1;32m   4091\u001b[0m \u001b[38;5;28;01mif\u001b[39;00m is_integer(indexer):\n\u001b[1;32m   4092\u001b[0m     indexer \u001b[38;5;241m=\u001b[39m [indexer]\n",
      "File \u001b[0;32m/opt/conda/lib/python3.12/site-packages/pandas/core/indexes/base.py:3809\u001b[0m, in \u001b[0;36mIndex.get_loc\u001b[0;34m(self, key)\u001b[0m\n\u001b[1;32m   3804\u001b[0m     \u001b[38;5;28;01mif\u001b[39;00m \u001b[38;5;28misinstance\u001b[39m(casted_key, \u001b[38;5;28mslice\u001b[39m) \u001b[38;5;129;01mor\u001b[39;00m (\n\u001b[1;32m   3805\u001b[0m         \u001b[38;5;28misinstance\u001b[39m(casted_key, abc\u001b[38;5;241m.\u001b[39mIterable)\n\u001b[1;32m   3806\u001b[0m         \u001b[38;5;129;01mand\u001b[39;00m \u001b[38;5;28many\u001b[39m(\u001b[38;5;28misinstance\u001b[39m(x, \u001b[38;5;28mslice\u001b[39m) \u001b[38;5;28;01mfor\u001b[39;00m x \u001b[38;5;129;01min\u001b[39;00m casted_key)\n\u001b[1;32m   3807\u001b[0m     ):\n\u001b[1;32m   3808\u001b[0m         \u001b[38;5;28;01mraise\u001b[39;00m InvalidIndexError(key)\n\u001b[0;32m-> 3809\u001b[0m     \u001b[38;5;28;01mraise\u001b[39;00m \u001b[38;5;167;01mKeyError\u001b[39;00m(key) \u001b[38;5;28;01mfrom\u001b[39;00m \u001b[38;5;21;01merr\u001b[39;00m\n\u001b[1;32m   3810\u001b[0m \u001b[38;5;28;01mexcept\u001b[39;00m \u001b[38;5;167;01mTypeError\u001b[39;00m:\n\u001b[1;32m   3811\u001b[0m     \u001b[38;5;66;03m# If we have a listlike key, _check_indexing_error will raise\u001b[39;00m\n\u001b[1;32m   3812\u001b[0m     \u001b[38;5;66;03m#  InvalidIndexError. Otherwise we fall through and re-raise\u001b[39;00m\n\u001b[1;32m   3813\u001b[0m     \u001b[38;5;66;03m#  the TypeError.\u001b[39;00m\n\u001b[1;32m   3814\u001b[0m     \u001b[38;5;28mself\u001b[39m\u001b[38;5;241m.\u001b[39m_check_indexing_error(key)\n",
      "\u001b[0;31mKeyError\u001b[0m: 'winner_seed'"
     ]
    }
   ],
   "source": [
    "#ID upset patterns:\n",
    "#Focus on games where a lower-seeded team defeated a higher-seeded team.\n",
    "#Analyze statistical differences, such as turnovers, three-point shooting, rebounding, and scoring efficiency.\n",
    "\n",
    "#create feature called is_upset:\n",
    "historical_data['is_upset'] = historical_data['winner_seed'] > historical_data['loser_seed']\n",
    "\n",
    "#use groupby to examine average stats for upsets:\n",
    "upset_stats = historical_data[historical_data['is_upset']].groupby('winner_seed').mean()\n",
    "print(upset_stats[['turnover_margin', 'three_point_pct', 'rebounding_margin']])"
   ]
  },
  {
   "cell_type": "code",
   "execution_count": null,
   "id": "51138169-5255-4adb-8e98-87096b2a8f35",
   "metadata": {},
   "outputs": [],
   "source": [
    "\n"
   ]
  }
 ],
 "metadata": {
  "kernelspec": {
   "display_name": "Python [conda env:base] *",
   "language": "python",
   "name": "conda-base-py"
  },
  "language_info": {
   "codemirror_mode": {
    "name": "ipython",
    "version": 3
   },
   "file_extension": ".py",
   "mimetype": "text/x-python",
   "name": "python",
   "nbconvert_exporter": "python",
   "pygments_lexer": "ipython3",
   "version": "3.12.7"
  }
 },
 "nbformat": 4,
 "nbformat_minor": 5
}
