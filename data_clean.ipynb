{
 "cells": [
  {
   "cell_type": "code",
   "execution_count": 4,
   "id": "a7405b11-f3c1-4a97-8181-1132f909c3c0",
   "metadata": {},
   "outputs": [
    {
     "name": "stdout",
     "output_type": "stream",
     "text": [
      "Cleaned and enriched data saved to data/MNCAATourneyDetailedResults_Cleaned_2023_2025.csv\n"
     ]
    }
   ],
   "source": [
    "import pandas as pd\n",
    "\n",
    "# Step 1: Load the Tournament Data\n",
    "tourney_file = \"data/MNCAATourneyDetailedResults.csv\"  # Adjust the path if necessary\n",
    "df = pd.read_csv(tourney_file)\n",
    "\n",
    "# Step 2: Drop the 'DayNum' column\n",
    "df = df.drop(columns=['DayNum'])\n",
    "\n",
    "# Step 3: Add 'tourn_' prefix to column names\n",
    "df.columns = ['tourn_' + col for col in df.columns]\n",
    "\n",
    "# Step 4: Filter for seasons 2023-2025\n",
    "df = df[df['tourn_Season'].isin([2023, 2024, 2025])]\n",
    "\n",
    "# Step 5: Load the Team Mapping Data (MTeams.csv)\n",
    "teams_file = \"data/MTeams.csv\"  # Adjust the path if necessary\n",
    "teams = pd.read_csv(teams_file)\n",
    "\n",
    "# Step 6: Create a mapping of TeamID to TeamName\n",
    "team_mapping = dict(zip(teams['TeamID'], teams['TeamName']))\n",
    "\n",
    "# Step 7: Map WTeamID and LTeamID to their respective team names\n",
    "df.insert(\n",
    "    df.columns.get_loc('tourn_WTeamID') + 1,  # Insert immediately after WTeamID\n",
    "    'tourn_WTeamName',\n",
    "    df['tourn_WTeamID'].map(team_mapping)\n",
    ")\n",
    "df.insert(\n",
    "    df.columns.get_loc('tourn_LTeamID') + 1,  # Insert immediately after LTeamID\n",
    "    'tourn_LTeamName',\n",
    "    df['tourn_LTeamID'].map(team_mapping)\n",
    ")\n",
    "\n",
    "# Step 8: Save the cleaned and enriched file\n",
    "output_file = \"data/MNCAATourneyDetailedResults_Cleaned_2023_2025.csv\"\n",
    "df.to_csv(output_file, index=False)\n",
    "\n",
    "print(f\"Cleaned and enriched data saved to {output_file}\")"
   ]
  },
  {
   "cell_type": "code",
   "execution_count": 5,
   "id": "908a9be5-784d-4c75-b5ab-8bc2808b2c46",
   "metadata": {},
   "outputs": [
    {
     "name": "stdout",
     "output_type": "stream",
     "text": [
      "   tourn_Season  tourn_WTeamID tourn_WTeamName  tourn_WScore  tourn_LTeamID  \\\n",
      "0          2023           1338      Pittsburgh            60           1280   \n",
      "1          2023           1394  TAM C. Christi            75           1369   \n",
      "2          2023           1113      Arizona St            98           1305   \n",
      "3          2023           1192     F Dickinson            84           1411   \n",
      "4          2023           1104         Alabama            96           1394   \n",
      "\n",
      "  tourn_LTeamName  tourn_LScore tourn_WLoc  tourn_NumOT  tourn_WFGM  ...  \\\n",
      "0  Mississippi St            59          N            0          21  ...   \n",
      "1  SE Missouri St            71          N            0          22  ...   \n",
      "2          Nevada            73          N            0          35  ...   \n",
      "3     TX Southern            61          N            0          23  ...   \n",
      "4  TAM C. Christi            75          N            0          33  ...   \n",
      "\n",
      "   tourn_LFGA3  tourn_LFTM  tourn_LFTA  tourn_LOR  tourn_LDR  tourn_LAst  \\\n",
      "0           23           5           7         14         28          14   \n",
      "1           26           9          20          6         22          17   \n",
      "2           21          12          14          5         18          19   \n",
      "3           17           8           9          8         19          16   \n",
      "4           20          16          18         11         23           8   \n",
      "\n",
      "   tourn_LTO  tourn_LStl  tourn_LBlk  tourn_LPF  \n",
      "0         14           1           4         18  \n",
      "1         12          11           2         31  \n",
      "2         11           3           0         18  \n",
      "3         14           8           0         24  \n",
      "4          6           4           3         18  \n",
      "\n",
      "[5 rows x 35 columns]\n"
     ]
    }
   ],
   "source": [
    "data = pd.read_csv(\"data/MNCAATourneyDetailedResults_Cleaned_2023_2025.csv\")\n",
    "print(data.head())"
   ]
  },
  {
   "cell_type": "code",
   "execution_count": 6,
   "id": "26e03bd9-cec2-4393-96e5-f2aa2d1ec021",
   "metadata": {},
   "outputs": [
    {
     "name": "stdout",
     "output_type": "stream",
     "text": [
      "Cleaned and enriched data saved to data/Regular_Season_Detailed_Cleaned_2023_2025.csv\n"
     ]
    }
   ],
   "source": [
    "# Step 1: Load the new dataset\n",
    "new_file = \"data/MRegularSeasonDetailedResults.csv\"\n",
    "df = pd.read_csv(new_file)\n",
    "\n",
    "# Step 2: Drop the 'DayNum' column\n",
    "df = df.drop(columns=['DayNum'])\n",
    "\n",
    "# Step 3: Add 'season_' prefix to column names\n",
    "df.columns = ['season_' + col for col in df.columns]\n",
    "\n",
    "# Step 4: Filter for seasons 2023-2025\n",
    "df = df[df['season_Season'].isin([2023, 2024, 2025])]\n",
    "\n",
    "# Step 5: Load the Team Mapping Data (MTeams.csv)\n",
    "teams_file = \"data/MTeams.csv\"  # Adjust the path if necessary\n",
    "teams = pd.read_csv(teams_file)\n",
    "\n",
    "# Step 6: Create a mapping of TeamID to TeamName\n",
    "team_mapping = dict(zip(teams['TeamID'], teams['TeamName']))\n",
    "\n",
    "# Step 7: Map WTeamID and LTeamID to their respective team names\n",
    "df.insert(\n",
    "    df.columns.get_loc('season_WTeamID') + 1,  # Insert immediately after WTeamID\n",
    "    'season_WTeamName',\n",
    "    df['season_WTeamID'].map(team_mapping)\n",
    ")\n",
    "df.insert(\n",
    "    df.columns.get_loc('season_LTeamID') + 1,  # Insert immediately after LTeamID\n",
    "    'season_LTeamName',\n",
    "    df['season_LTeamID'].map(team_mapping)\n",
    ")\n",
    "\n",
    "# Step 8: Save the cleaned and enriched file\n",
    "output_file = \"data/Regular_Season_Detailed_Cleaned_2023_2025.csv\"\n",
    "df.to_csv(output_file, index=False)\n",
    "\n",
    "print(f\"Cleaned and enriched data saved to {output_file}\")\n"
   ]
  },
  {
   "cell_type": "code",
   "execution_count": 7,
   "id": "fa256f8b-29e8-4aeb-8db6-1e414fb6cbb3",
   "metadata": {},
   "outputs": [
    {
     "name": "stdout",
     "output_type": "stream",
     "text": [
      "   season_Season  season_WTeamID season_WTeamName  season_WScore  \\\n",
      "0           2023            1101      Abilene Chr             65   \n",
      "1           2023            1103            Akron             81   \n",
      "2           2023            1104          Alabama             75   \n",
      "3           2023            1112          Arizona            117   \n",
      "4           2023            1113       Arizona St             62   \n",
      "\n",
      "   season_LTeamID season_LTeamName  season_LScore season_WLoc  season_NumOT  \\\n",
      "0            1238       Jackson St             56           H             0   \n",
      "1            1355      S Dakota St             80           H             1   \n",
      "2            1255         Longwood             54           H             0   \n",
      "3            1311      Nicholls St             75           H             0   \n",
      "4            1470      Tarleton St             59           H             0   \n",
      "\n",
      "   season_WFGM  ...  season_LFGA3  season_LFTM  season_LFTA  season_LOR  \\\n",
      "0           23  ...            19           10           14           7   \n",
      "1           30  ...            15           14           17           5   \n",
      "2           27  ...            13           11           19          12   \n",
      "3           38  ...            18           10           22           8   \n",
      "4           21  ...            14           19           32           5   \n",
      "\n",
      "   season_LDR  season_LAst  season_LTO  season_LStl  season_LBlk  season_LPF  \n",
      "0          33            9          21            6            1          21  \n",
      "1          28           11          12            3            4          15  \n",
      "2          23            8           9            8            3          22  \n",
      "3          14           11          16           17            1          29  \n",
      "4          28           10          17           12            4          27  \n",
      "\n",
      "[5 rows x 35 columns]\n"
     ]
    }
   ],
   "source": [
    "data = pd.read_csv(\"data/Regular_Season_Detailed_Cleaned_2023_2025.csv\")\n",
    "print(data.head())"
   ]
  },
  {
   "cell_type": "code",
   "execution_count": 10,
   "id": "125e2dda-bddb-482d-a502-d09766255774",
   "metadata": {},
   "outputs": [
    {
     "name": "stdout",
     "output_type": "stream",
     "text": [
      "Filtered regular season data saved to data/Regular_Season_Filtered_By_Bracket.csv\n",
      "Filtered tournament data saved to data/Tourney_Filtered_By_Bracket.csv\n"
     ]
    }
   ],
   "source": [
    "# Step 1: Load the files\n",
    "bracket_file = \"data/Mbracket2025.csv\"\n",
    "regular_season_file = \"data/Regular_Season_Detailed_Cleaned_2023_2025.csv\"\n",
    "tourney_file = \"data/MNCAATourneyDetailedResults_Cleaned_2023_2025.csv\"\n",
    "\n",
    "bracket_df = pd.read_csv(bracket_file)\n",
    "regular_season_df = pd.read_csv(regular_season_file)\n",
    "tourney_df = pd.read_csv(tourney_file)\n",
    "\n",
    "# Step 2: Extract unique team names from the bracket file\n",
    "teams = pd.concat([bracket_df['home_team'], bracket_df['away_team']]).unique()\n",
    "\n",
    "# Step 3: Filter the regular season dataset\n",
    "regular_season_filtered = regular_season_df[\n",
    "    (regular_season_df['season_WTeamName'].isin(teams)) |\n",
    "    (regular_season_df['season_LTeamName'].isin(teams))\n",
    "]\n",
    "\n",
    "# Step 4: Filter the tournament dataset\n",
    "tourney_filtered = tourney_df[\n",
    "    (tourney_df['tourn_WTeamName'].isin(teams)) |\n",
    "    (tourney_df['tourn_LTeamName'].isin(teams))\n",
    "]\n",
    "\n",
    "# Step 5: Save the filtered datasets\n",
    "regular_season_output = \"data/Regular_Season_Filtered_By_Bracket.csv\"\n",
    "tourney_output = \"data/Tourney_Filtered_By_Bracket.csv\"\n",
    "\n",
    "regular_season_filtered.to_csv(regular_season_output, index=False)\n",
    "tourney_filtered.to_csv(tourney_output, index=False)\n",
    "\n",
    "print(f\"Filtered regular season data saved to {regular_season_output}\")\n",
    "print(f\"Filtered tournament data saved to {tourney_output}\")"
   ]
  },
  {
   "cell_type": "code",
   "execution_count": 12,
   "id": "a14543a1-c41c-47a8-aead-b5c2262810f6",
   "metadata": {},
   "outputs": [
    {
     "name": "stdout",
     "output_type": "stream",
     "text": [
      "   season_Season  season_WTeamID season_WTeamName  season_WScore  \\\n",
      "0           2023            1103            Akron             81   \n",
      "1           2023            1104          Alabama             75   \n",
      "2           2023            1112          Arizona            117   \n",
      "3           2023            1116         Arkansas             76   \n",
      "4           2023            1120           Auburn             70   \n",
      "\n",
      "   season_LTeamID season_LTeamName  season_LScore season_WLoc  season_NumOT  \\\n",
      "0            1355      S Dakota St             80           H             1   \n",
      "1            1255         Longwood             54           H             0   \n",
      "2            1311      Nicholls St             75           H             0   \n",
      "3            1295      N Dakota St             58           H             0   \n",
      "4            1206     George Mason             52           H             0   \n",
      "\n",
      "   season_WFGM  ...  season_LFGA3  season_LFTM  season_LFTA  season_LOR  \\\n",
      "0           30  ...            15           14           17           5   \n",
      "1           27  ...            13           11           19          12   \n",
      "2           38  ...            18           10           22           8   \n",
      "3           28  ...            21           15           23           7   \n",
      "4           24  ...            20            3            8           7   \n",
      "\n",
      "   season_LDR  season_LAst  season_LTO  season_LStl  season_LBlk  season_LPF  \n",
      "0          28           11          12            3            4          15  \n",
      "1          23            8           9            8            3          22  \n",
      "2          14           11          16           17            1          29  \n",
      "3          25            7          14            5            2          16  \n",
      "4          24            9          19            3            4          23  \n",
      "\n",
      "[5 rows x 35 columns]\n"
     ]
    }
   ],
   "source": [
    "reg_season_filtered = pd.read_csv(\"data/Regular_Season_Filtered_By_Bracket.csv\")\n",
    "print(reg_season_filtered.head())"
   ]
  },
  {
   "cell_type": "code",
   "execution_count": 13,
   "id": "08b36a2a-75d2-45fe-8e1c-f43515441581",
   "metadata": {},
   "outputs": [
    {
     "name": "stdout",
     "output_type": "stream",
     "text": [
      "   tourn_Season  tourn_WTeamID tourn_WTeamName  tourn_WScore  tourn_LTeamID  \\\n",
      "0          2023           1104         Alabama            96           1394   \n",
      "1          2023           1116        Arkansas            73           1228   \n",
      "2          2023           1120          Auburn            83           1234   \n",
      "3          2023           1181            Duke            74           1331   \n",
      "4          2023           1222         Houston            63           1297   \n",
      "\n",
      "  tourn_LTeamName  tourn_LScore tourn_WLoc  tourn_NumOT  tourn_WFGM  ...  \\\n",
      "0  TAM C. Christi            75          N            0          33  ...   \n",
      "1        Illinois            63          N            0          24  ...   \n",
      "2            Iowa            75          N            0          29  ...   \n",
      "3    Oral Roberts            51          N            0          31  ...   \n",
      "4      N Kentucky            52          N            0          25  ...   \n",
      "\n",
      "   tourn_LFGA3  tourn_LFTM  tourn_LFTA  tourn_LOR  tourn_LDR  tourn_LAst  \\\n",
      "0           20          16          18         11         23           8   \n",
      "1           22          17          26          2         27          10   \n",
      "2           27          12          17         12         25          11   \n",
      "3           32           5           8          8         20          10   \n",
      "4           33           9          10         17         14           7   \n",
      "\n",
      "   tourn_LTO  tourn_LStl  tourn_LBlk  tourn_LPF  \n",
      "0          6           4           3         18  \n",
      "1         16          10           5         19  \n",
      "2          8           4           2         18  \n",
      "3          9           3           5          8  \n",
      "4          7           9           1         12  \n",
      "\n",
      "[5 rows x 35 columns]\n"
     ]
    }
   ],
   "source": [
    "tournament_filtered = pd.read_csv(\"data/Tourney_Filtered_By_Bracket.csv\")\n",
    "print(tournament_filtered.head())"
   ]
  },
  {
   "cell_type": "code",
   "execution_count": 15,
   "id": "f7760d28-3e6f-4804-9e15-8b2ea7bd0552",
   "metadata": {},
   "outputs": [
    {
     "name": "stdout",
     "output_type": "stream",
     "text": [
      "  season_WTeamName  season_WScore  season_WFGM  season_WFGA  season_WTO  \\\n",
      "0      Abilene Chr      79.000000    23.000000    60.000000    7.000000   \n",
      "1        Air Force      75.333333    29.000000    52.000000    8.333333   \n",
      "2            Akron      80.359375    28.375000    59.750000   10.859375   \n",
      "3          Alabama      90.589041    30.753425    64.041096   12.315068   \n",
      "4      Alabama A&M      63.000000    27.000000    68.000000   11.000000   \n",
      "\n",
      "   season_WStl tourn_WTeamName  tourn_WScore  tourn_WFGM  tourn_WFGA  \\\n",
      "0     6.000000             NaN           NaN         NaN         NaN   \n",
      "1     7.000000             NaN           NaN         NaN         NaN   \n",
      "2     6.343750             NaN           NaN         NaN         NaN   \n",
      "3     7.013699         Alabama          88.0        29.5   63.666667   \n",
      "4    12.000000             NaN           NaN         NaN         NaN   \n",
      "\n",
      "   tourn_WTO  tourn_WStl  \n",
      "0        NaN         NaN  \n",
      "1        NaN         NaN  \n",
      "2        NaN         NaN  \n",
      "3  10.333333    5.833333  \n",
      "4        NaN         NaN  \n"
     ]
    }
   ],
   "source": [
    "#Team Performance Metrics\n",
    "\n",
    "#Goal: Evaluate team performances during the regular season and tournament.\n",
    "\n",
    "#Steps:\n",
    "#Aggregate stats (e.g., average points, field goal percentages, rebounds).\n",
    "#Separate results for wins and losses to identify patterns in strong vs. weak games.\n",
    "#Compare regular-season stats to tournament stats.\n",
    "\n",
    "\n",
    "# Regular season performance metrics\n",
    "reg_performance = reg_season_filtered.groupby('season_WTeamName').agg({\n",
    "    'season_WScore': 'mean',\n",
    "    'season_WFGM': 'mean',\n",
    "    'season_WFGA': 'mean',\n",
    "    'season_WTO': 'mean',\n",
    "    'season_WStl': 'mean',\n",
    "}).reset_index()\n",
    "\n",
    "# Tournament performance metrics\n",
    "tourney_performance = tournament_filtered.groupby('tourn_WTeamName').agg({\n",
    "    'tourn_WScore': 'mean',\n",
    "    'tourn_WFGM': 'mean',\n",
    "    'tourn_WFGA': 'mean',\n",
    "    'tourn_WTO': 'mean',\n",
    "    'tourn_WStl': 'mean',\n",
    "}).reset_index()\n",
    "\n",
    "# Compare regular-season and tournament performance\n",
    "performance_comparison = reg_performance.merge(\n",
    "    tourney_performance, left_on='season_WTeamName', right_on='tourn_WTeamName', how='outer'\n",
    ")\n",
    "print(performance_comparison.head())"
   ]
  },
  {
   "cell_type": "code",
   "execution_count": 16,
   "id": "dd77b161-ae33-428d-95e9-59e3bc85505d",
   "metadata": {},
   "outputs": [
    {
     "name": "stdout",
     "output_type": "stream",
     "text": [
      "Head-to-Head Matchups (Regular Season):\n",
      "     season_Season  season_WTeamID season_WTeamName  season_WScore  \\\n",
      "20            2023            1272          Memphis             76   \n",
      "45            2023            1104          Alabama             95   \n",
      "75            2023            1219       High Point             91   \n",
      "84            2023            1179            Drake             80   \n",
      "100           2023            1242           Kansas             69   \n",
      "\n",
      "     season_LTeamID season_LTeamName  season_LScore season_WLoc  season_NumOT  \\\n",
      "20             1435       Vanderbilt             67           A             0   \n",
      "45             1251          Liberty             59           H             0   \n",
      "75             1459          Wofford             80           H             0   \n",
      "84             1459          Wofford             72           H             0   \n",
      "100            1181             Duke             64           N             0   \n",
      "\n",
      "     season_WFGM  ...  season_LFGA3  season_LFTM  season_LFTA  season_LOR  \\\n",
      "20            27  ...            30            9           15           9   \n",
      "45            27  ...            29           15           20           3   \n",
      "75            31  ...            27           22           34          15   \n",
      "84            33  ...            26            9           11           5   \n",
      "100           31  ...            21           13           16          16   \n",
      "\n",
      "     season_LDR  season_LAst  season_LTO  season_LStl  season_LBlk  season_LPF  \n",
      "20           16           14          13            8            3          18  \n",
      "45           14           13          13            6            1          25  \n",
      "75           17           16           8            8            0          19  \n",
      "84           20            8          11            2            1          15  \n",
      "100          22            8          18            3            2          16  \n",
      "\n",
      "[5 rows x 35 columns]\n",
      "Head-to-Head Matchups (Tournament):\n",
      "    tourn_Season  tourn_WTeamID tourn_WTeamName  tourn_WScore  tourn_LTeamID  \\\n",
      "1           2023           1116        Arkansas            73           1228   \n",
      "16          2023           1211         Gonzaga            82           1213   \n",
      "21          2023           1104         Alabama            73           1268   \n",
      "22          2023           1116        Arkansas            72           1242   \n",
      "23          2023           1222         Houston            81           1120   \n",
      "\n",
      "   tourn_LTeamName  tourn_LScore tourn_WLoc  tourn_NumOT  tourn_WFGM  ...  \\\n",
      "1         Illinois            63          N            0          24  ...   \n",
      "16    Grand Canyon            70          N            0          30  ...   \n",
      "21        Maryland            51          N            0          23  ...   \n",
      "22          Kansas            71          N            0          24  ...   \n",
      "23          Auburn            64          N            0          25  ...   \n",
      "\n",
      "    tourn_LFGA3  tourn_LFTM  tourn_LFTA  tourn_LOR  tourn_LDR  tourn_LAst  \\\n",
      "1            22          17          26          2         27          10   \n",
      "16           24           5           7          4         18          11   \n",
      "21            8          12          21          9         19           6   \n",
      "22           13          18          25          6         21           9   \n",
      "23           16          19          36          7         18          11   \n",
      "\n",
      "    tourn_LTO  tourn_LStl  tourn_LBlk  tourn_LPF  \n",
      "1          16          10           5         19  \n",
      "16          6           5           0         16  \n",
      "21         12           7           5         18  \n",
      "22          9           5           4         23  \n",
      "23          8           1           3         22  \n",
      "\n",
      "[5 rows x 35 columns]\n"
     ]
    }
   ],
   "source": [
    "#Head to Head Matchup insights:\n",
    "#Goal: Analyze historical performance between teams matched up in the bracket.\n",
    "#Steps:\n",
    "#Identify matchups from Mbracket2025.csv.\n",
    "#Filter past games (both regular season and tournament) for these matchups.\n",
    "#Summarize results (win/loss records, point differentials, etc.).\n",
    "\n",
    "# Extract matchups from the bracket file\n",
    "matchups = pd.concat([bracket_df['home_team'], bracket_df['away_team']]).unique()\n",
    "\n",
    "# Filter regular-season games for head-to-head matchups\n",
    "head_to_head_reg = reg_season_filtered[\n",
    "    (reg_season_filtered['season_WTeamName'].isin(matchups)) &\n",
    "    (reg_season_filtered['season_LTeamName'].isin(matchups))\n",
    "]\n",
    "\n",
    "# Filter tournament games for head-to-head matchups\n",
    "head_to_head_tourney = tournament_filtered[\n",
    "    (tournament_filtered['tourn_WTeamName'].isin(matchups)) &\n",
    "    (tournament_filtered['tourn_LTeamName'].isin(matchups))\n",
    "]\n",
    "\n",
    "print(\"Head-to-Head Matchups (Regular Season):\")\n",
    "print(head_to_head_reg.head())\n",
    "\n",
    "print(\"Head-to-Head Matchups (Tournament):\")\n",
    "print(head_to_head_tourney.head())"
   ]
  },
  {
   "cell_type": "code",
   "execution_count": 17,
   "id": "d574ff42-e9f2-49d2-984c-4e8d95577cbd",
   "metadata": {},
   "outputs": [
    {
     "name": "stdout",
     "output_type": "stream",
     "text": [
      "Upset Rate: 0.00%\n"
     ]
    }
   ],
   "source": [
    "#Upset and Seed Analysis:\n",
    "#Goal: Study how often lower-seeded teams defeat higher-seeded teams.\n",
    "#Steps:\n",
    "#Extract seeds from Mbracket2025.csv.\n",
    "#Analyze home_seed vs. away_seed outcomes.\n",
    "#Calculate upset rates.\n",
    "\n",
    "# Add a column indicating if an upset occurred\n",
    "bracket_df['upset'] = bracket_df['home_seed'] > bracket_df['away_seed']\n",
    "\n",
    "# Calculate upset rates\n",
    "upset_rate = bracket_df['upset'].mean()\n",
    "print(f\"Upset Rate: {upset_rate * 100:.2f}%\")"
   ]
  },
  {
   "cell_type": "code",
   "execution_count": 18,
   "id": "eebeccda-fde7-4a0c-bd73-7ea61685b095",
   "metadata": {},
   "outputs": [
    {
     "name": "stdout",
     "output_type": "stream",
     "text": [
      "  season_WTeamName  season_WScore  season_WAst  season_WStl\n",
      "0      Abilene Chr      79.000000    12.000000     6.000000\n",
      "1        Air Force      75.333333    16.666667     7.000000\n",
      "2            Akron      80.359375    15.656250     6.343750\n",
      "3          Alabama      90.589041    17.095890     7.013699\n",
      "4      Alabama A&M      63.000000     8.000000    12.000000\n"
     ]
    }
   ],
   "source": [
    "#Key Player Impact\n",
    "#Goal: Quantify the impact of key stats (e.g., points, assists, steals) on team performance.\n",
    "#Steps:\n",
    "#Identify standout performances in wins and losses.\n",
    "#Aggregate and visualize key stats by team.\n",
    "# Analyze key stats in wins\n",
    "key_stats = reg_season_filtered.groupby('season_WTeamName').agg({\n",
    "    'season_WScore': 'mean',\n",
    "    'season_WAst': 'mean',\n",
    "    'season_WStl': 'mean',\n",
    "}).reset_index()\n",
    "\n",
    "print(key_stats.head())"
   ]
  },
  {
   "cell_type": "code",
   "execution_count": 19,
   "id": "e6e57d8e-86fd-49e7-9e53-903b3fb9396d",
   "metadata": {},
   "outputs": [
    {
     "name": "stdout",
     "output_type": "stream",
     "text": [
      "  season_WTeamName  season_WFGA  season_WTO tourn_WTeamName  tourn_WFGA  \\\n",
      "0      Abilene Chr    60.000000    7.000000             NaN         NaN   \n",
      "1        Air Force    52.000000    8.333333             NaN         NaN   \n",
      "2            Akron    59.750000   10.859375             NaN         NaN   \n",
      "3          Alabama    64.041096   12.315068         Alabama   63.666667   \n",
      "4      Alabama A&M    68.000000   11.000000             NaN         NaN   \n",
      "\n",
      "   tourn_WTO  \n",
      "0        NaN  \n",
      "1        NaN  \n",
      "2        NaN  \n",
      "3  10.333333  \n",
      "4        NaN  \n"
     ]
    }
   ],
   "source": [
    "#Tournament vs. Regular Season Style of Play\n",
    "#Goal: Compare team style changes (e.g., pace, turnovers) between the regular season and tournament.\n",
    "#Aggregate play style stats (e.g., possessions, field goal attempts).\n",
    "#Compare stats between the two datasets.\n",
    "\n",
    "# Regular season play style\n",
    "reg_style = reg_season_filtered.groupby('season_WTeamName').agg({\n",
    "    'season_WFGA': 'mean',\n",
    "    'season_WTO': 'mean',\n",
    "}).reset_index()\n",
    "\n",
    "# Tournament play style\n",
    "tourney_style = tournament_filtered.groupby('tourn_WTeamName').agg({\n",
    "    'tourn_WFGA': 'mean',\n",
    "    'tourn_WTO': 'mean',\n",
    "}).reset_index()\n",
    "\n",
    "# Compare styles\n",
    "style_comparison = reg_style.merge(\n",
    "    tourney_style, left_on='season_WTeamName', right_on='tourn_WTeamName', how='outer'\n",
    ")\n",
    "print(style_comparison.head())\n"
   ]
  },
  {
   "cell_type": "code",
   "execution_count": 20,
   "id": "e02f75f8-9a77-4e2f-bac5-951df3a50ce9",
   "metadata": {},
   "outputs": [
    {
     "name": "stdout",
     "output_type": "stream",
     "text": [
      "Model Accuracy: 100.00%\n"
     ]
    }
   ],
   "source": [
    "#Advanced Predictive Modeling\n",
    "#Goal: Use machine learning to predict game outcomes.\n",
    "#Select features (e.g., team stats, seeds, head-to-head records).\n",
    "#Train a classification model (e.g., logistic regression, random forest).\n",
    "#Evaluate model accuracy.\n",
    "\n",
    "from sklearn.model_selection import train_test_split\n",
    "from sklearn.ensemble import RandomForestClassifier\n",
    "from sklearn.metrics import accuracy_score\n",
    "\n",
    "# Feature engineering (sample features)\n",
    "features = reg_season_filtered[['season_WScore', 'season_LScore']]\n",
    "labels = (reg_season_filtered['season_WScore'] > reg_season_filtered['season_LScore']).astype(int)\n",
    "\n",
    "# Train-test split\n",
    "X_train, X_test, y_train, y_test = train_test_split(features, labels, test_size=0.2, random_state=42)\n",
    "\n",
    "# Train a random forest model\n",
    "model = RandomForestClassifier()\n",
    "model.fit(X_train, y_train)\n",
    "\n",
    "# Evaluate the model\n",
    "predictions = model.predict(X_test)\n",
    "accuracy = accuracy_score(y_test, predictions)\n",
    "print(f\"Model Accuracy: {accuracy * 100:.2f}%\")"
   ]
  },
  {
   "cell_type": "code",
   "execution_count": 21,
   "id": "b7a7dd27-e66a-4a4b-8a99-ad5fcb08ca5e",
   "metadata": {},
   "outputs": [
    {
     "name": "stdout",
     "output_type": "stream",
     "text": [
      "    region  season_WScore  season_WFGA\n",
      "0     east         83.875       61.375\n",
      "1  midwest         76.500       59.375\n",
      "2    south         84.500       64.375\n",
      "3     west         78.250       62.125\n"
     ]
    }
   ],
   "source": [
    "#Region and Seed Strength\n",
    "#Goal: Analyze team strength by region and seed.\n",
    "#Group data by regions and seeds.\n",
    "#Aggregate team stats for comparison.\n",
    "\n",
    "# Calculate average stats by region\n",
    "region_strength = reg_season_filtered.groupby(bracket_df['region']).agg({\n",
    "    'season_WScore': 'mean',\n",
    "    'season_WFGA': 'mean',\n",
    "}).reset_index()\n",
    "\n",
    "print(region_strength)"
   ]
  },
  {
   "cell_type": "code",
   "execution_count": null,
   "id": "3cef2519-70f7-4c34-9a15-bd9156057521",
   "metadata": {},
   "outputs": [],
   "source": []
  }
 ],
 "metadata": {
  "kernelspec": {
   "display_name": "Python [conda env:base] *",
   "language": "python",
   "name": "conda-base-py"
  },
  "language_info": {
   "codemirror_mode": {
    "name": "ipython",
    "version": 3
   },
   "file_extension": ".py",
   "mimetype": "text/x-python",
   "name": "python",
   "nbconvert_exporter": "python",
   "pygments_lexer": "ipython3",
   "version": "3.12.7"
  }
 },
 "nbformat": 4,
 "nbformat_minor": 5
}
