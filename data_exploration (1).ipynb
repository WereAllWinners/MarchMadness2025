{
 "cells": [
  {
   "cell_type": "code",
   "execution_count": 2,
   "id": "3153c6dc-17ae-432b-a8a2-4e6b44328773",
   "metadata": {},
   "outputs": [],
   "source": [
    "import pandas as pd\n",
    "import numpy as np\n",
    "import matplotlib.pyplot as plt\n",
    "import seaborn as sns"
   ]
  },
  {
   "cell_type": "code",
   "execution_count": 3,
   "id": "4cf6f79a-bfe5-40ee-b94f-7c1fcc7982c6",
   "metadata": {},
   "outputs": [],
   "source": [
    "import os\n",
    "os.chdir(\"/home/jovyan/MarchMadness2025/\")"
   ]
  },
  {
   "cell_type": "code",
   "execution_count": 4,
   "id": "f7b6d2e2-767d-4ef3-a22d-83c515bf962e",
   "metadata": {},
   "outputs": [
    {
     "name": "stdout",
     "output_type": "stream",
     "text": [
      "   CityID         City State\n",
      "0    4001      Abilene    TX\n",
      "1    4002        Akron    OH\n",
      "2    4003       Albany    NY\n",
      "3    4004  Albuquerque    NM\n",
      "4    4005    Allentown    PA\n"
     ]
    }
   ],
   "source": [
    "city = pd.read_csv(\"data/Cities.csv\")\n",
    "print(city.head())"
   ]
  },
  {
   "cell_type": "code",
   "execution_count": 5,
   "id": "a3e2323e-deff-44f4-9165-e279ab296c57",
   "metadata": {},
   "outputs": [
    {
     "name": "stdout",
     "output_type": "stream",
     "text": [
      "  ConfAbbrev                   Description\n",
      "0      a_sun       Atlantic Sun Conference\n",
      "1      a_ten        Atlantic 10 Conference\n",
      "2        aac  American Athletic Conference\n",
      "3        acc     Atlantic Coast Conference\n",
      "4        aec       America East Conference\n"
     ]
    }
   ],
   "source": [
    "conf = pd.read_csv(\"data/Conferences.csv\")\n",
    "print(conf.head())"
   ]
  },
  {
   "cell_type": "code",
   "execution_count": 6,
   "id": "56f0d9c3-e71e-4adb-8eb9-01ba55c03f39",
   "metadata": {},
   "outputs": [
    {
     "name": "stdout",
     "output_type": "stream",
     "text": [
      "   Season ConfAbbrev  DayNum  WTeamID  LTeamID\n",
      "0    2001      a_sun     121     1194     1144\n",
      "1    2001      a_sun     121     1416     1240\n",
      "2    2001      a_sun     122     1209     1194\n",
      "3    2001      a_sun     122     1359     1239\n",
      "4    2001      a_sun     122     1391     1273\n"
     ]
    }
   ],
   "source": [
    "mconftourneygame = pd.read_csv(\"data/MConferenceTourneyGames.csv\")\n",
    "print(mconftourneygame.head())"
   ]
  },
  {
   "cell_type": "code",
   "execution_count": 7,
   "id": "651e759c-af3d-48ab-bcf9-b1b60057292c",
   "metadata": {},
   "outputs": [
    {
     "name": "stdout",
     "output_type": "stream",
     "text": [
      "   Season  DayNum  WTeamID  LTeamID   CRType  CityID\n",
      "0    2010       7     1143     1293  Regular    4027\n",
      "1    2010       7     1314     1198  Regular    4061\n",
      "2    2010       7     1326     1108  Regular    4080\n",
      "3    2010       7     1393     1107  Regular    4340\n",
      "4    2010       9     1143     1178  Regular    4027\n"
     ]
    }
   ],
   "source": [
    "mgamecity = pd.read_csv(\"data/MGameCities.csv\")\n",
    "print(mgamecity.head())"
   ]
  },
  {
   "cell_type": "code",
   "execution_count": 8,
   "id": "b91a2f13-4e44-4f15-a57f-8e48228a25f4",
   "metadata": {},
   "outputs": [
    {
     "name": "stdout",
     "output_type": "stream",
     "text": [
      "   Season  DayNum  WTeamID  WScore  LTeamID  LScore WLoc  NumOT  WFGM  WFGA  \\\n",
      "0    2003     134     1421      92     1411      84    N      1    32    69   \n",
      "1    2003     136     1112      80     1436      51    N      0    31    66   \n",
      "2    2003     136     1113      84     1272      71    N      0    31    59   \n",
      "3    2003     136     1141      79     1166      73    N      0    29    53   \n",
      "4    2003     136     1143      76     1301      74    N      1    27    64   \n",
      "\n",
      "   ...  LFGA3  LFTM  LFTA  LOR  LDR  LAst  LTO  LStl  LBlk  LPF  \n",
      "0  ...     31    14    31   17   28    16   15     5     0   22  \n",
      "1  ...     16     7     7    8   26    12   17    10     3   15  \n",
      "2  ...     28    14    21   20   22    11   12     2     5   18  \n",
      "3  ...     17    12    17   14   17    20   21     6     6   21  \n",
      "4  ...     21    15    20   10   26    16   14     5     8   19  \n",
      "\n",
      "[5 rows x 34 columns]\n"
     ]
    }
   ],
   "source": [
    "mtournamentresults = pd.read_csv(\"data/MNCAATourneyDetailedResults.csv\")\n",
    "print(mtournamentresults.head())"
   ]
  },
  {
   "cell_type": "code",
   "execution_count": 9,
   "id": "42386cf3-21c5-40ed-9203-fe92076c0fa2",
   "metadata": {},
   "outputs": [
    {
     "name": "stdout",
     "output_type": "stream",
     "text": [
      "  Seed  GameRound GameSlot  EarlyDayNum  LateDayNum\n",
      "0  W01          1     R1W1          136         137\n",
      "1  W01          2     R2W1          138         139\n",
      "2  W01          3     R3W1          143         144\n",
      "3  W01          4     R4W1          145         146\n",
      "4  W01          5     R5WX          152         152\n"
     ]
    }
   ],
   "source": [
    "mseedrdslot = pd.read_csv(\"data/MNCAATourneySeedRoundSlots.csv\")\n",
    "print(mseedrdslot.head())"
   ]
  },
  {
   "cell_type": "code",
   "execution_count": 10,
   "id": "2bc6699e-2bb4-4ee2-a841-a03f923f7766",
   "metadata": {},
   "outputs": [
    {
     "name": "stdout",
     "output_type": "stream",
     "text": [
      "   Season Seed  TeamID\n",
      "0    1985  W01    1207\n",
      "1    1985  W02    1210\n",
      "2    1985  W03    1228\n",
      "3    1985  W04    1260\n",
      "4    1985  W05    1374\n"
     ]
    }
   ],
   "source": [
    "mtourneyseed = pd.read_csv(\"data/MNCAATourneySeeds.csv\")\n",
    "print(mtourneyseed.head())"
   ]
  },
  {
   "cell_type": "code",
   "execution_count": 11,
   "id": "76c50613-ad5f-40b6-a209-15f23fe2800a",
   "metadata": {},
   "outputs": [
    {
     "name": "stdout",
     "output_type": "stream",
     "text": [
      "   Season  Slot StrongSeed WeakSeed\n",
      "0    1985  R1W1        W01      W16\n",
      "1    1985  R1W2        W02      W15\n",
      "2    1985  R1W3        W03      W14\n",
      "3    1985  R1W4        W04      W13\n",
      "4    1985  R1W5        W05      W12\n"
     ]
    }
   ],
   "source": [
    "mtourneyslot = pd.read_csv(\"data/MNCAATourneySlots.csv\")\n",
    "print(mtourneyslot.head())"
   ]
  },
  {
   "cell_type": "code",
   "execution_count": 12,
   "id": "e9aa4af7-faa1-4def-b5fd-1cfd7d1ac8ca",
   "metadata": {},
   "outputs": [
    {
     "name": "stdout",
     "output_type": "stream",
     "text": [
      "   Season  DayNum  WTeamID  WScore  LTeamID  LScore WLoc  NumOT  WFGM  WFGA  \\\n",
      "0    2003      10     1104      68     1328      62    N      0    27    58   \n",
      "1    2003      10     1272      70     1393      63    N      0    26    62   \n",
      "2    2003      11     1266      73     1437      61    N      0    24    58   \n",
      "3    2003      11     1296      56     1457      50    N      0    18    38   \n",
      "4    2003      11     1400      77     1208      71    N      0    30    61   \n",
      "\n",
      "   ...  LFGA3  LFTM  LFTA  LOR  LDR  LAst  LTO  LStl  LBlk  LPF  \n",
      "0  ...     10    16    22   10   22     8   18     9     2   20  \n",
      "1  ...     24     9    20   20   25     7   12     8     6   16  \n",
      "2  ...     26    14    23   31   22     9   12     2     5   23  \n",
      "3  ...     22     8    15   17   20     9   19     4     3   23  \n",
      "4  ...     16    17    27   21   15    12   10     7     1   14  \n",
      "\n",
      "[5 rows x 34 columns]\n"
     ]
    }
   ],
   "source": [
    "mregseasonresults = pd.read_csv(\"data/MRegularSeasonDetailedResults.csv\")\n",
    "print(mregseasonresults.head())"
   ]
  },
  {
   "cell_type": "code",
   "execution_count": 13,
   "id": "0c110e0b-63c5-4628-8ae1-84f941900c70",
   "metadata": {},
   "outputs": [
    {
     "name": "stdout",
     "output_type": "stream",
     "text": [
      "   Season     DayZero RegionW    RegionX    RegionY    RegionZ\n",
      "0    1985  10/29/1984    East       West    Midwest  Southeast\n",
      "1    1986  10/28/1985    East    Midwest  Southeast       West\n",
      "2    1987  10/27/1986    East  Southeast    Midwest       West\n",
      "3    1988  11/02/1987    East    Midwest  Southeast       West\n",
      "4    1989  10/31/1988    East       West    Midwest  Southeast\n"
     ]
    }
   ],
   "source": [
    "mseason = pd.read_csv(\"data/MSeasons.csv\")\n",
    "print(mseason.head())"
   ]
  },
  {
   "cell_type": "code",
   "execution_count": 14,
   "id": "ce4b57ab-45cf-4e14-ab8f-da767812fd2a",
   "metadata": {},
   "outputs": [
    {
     "name": "stdout",
     "output_type": "stream",
     "text": [
      "   Season  TeamID  FirstDayNum  LastDayNum       CoachName\n",
      "0    1985    1102            0         154   reggie_minton\n",
      "1    1985    1103            0         154     bob_huggins\n",
      "2    1985    1104            0         154  wimp_sanderson\n",
      "3    1985    1106            0         154    james_oliver\n",
      "4    1985    1108            0         154   davey_whitney\n"
     ]
    }
   ],
   "source": [
    "mcoach = pd.read_csv(\"data/MTeamCoaches.csv\")\n",
    "print(mcoach.head())"
   ]
  },
  {
   "cell_type": "code",
   "execution_count": 15,
   "id": "b9693d7f-6a9e-4cff-9f28-aad712423e77",
   "metadata": {},
   "outputs": [
    {
     "name": "stdout",
     "output_type": "stream",
     "text": [
      "   Season  TeamID ConfAbbrev\n",
      "0    1985    1102        wac\n",
      "1    1985    1103        ovc\n",
      "2    1985    1104        sec\n",
      "3    1985    1106       swac\n",
      "4    1985    1108       swac\n"
     ]
    }
   ],
   "source": [
    "mteamconf = pd.read_csv(\"data/MTeamConferences.csv\")\n",
    "print(mteamconf.head())"
   ]
  },
  {
   "cell_type": "code",
   "execution_count": 16,
   "id": "ec4e5cea-a5d8-4517-978e-c5e522d0168d",
   "metadata": {},
   "outputs": [
    {
     "name": "stdout",
     "output_type": "stream",
     "text": [
      "   TeamID     TeamName  FirstD1Season  LastD1Season\n",
      "0    1101  Abilene Chr           2014          2025\n",
      "1    1102    Air Force           1985          2025\n",
      "2    1103        Akron           1985          2025\n",
      "3    1104      Alabama           1985          2025\n",
      "4    1105  Alabama A&M           2000          2025\n"
     ]
    }
   ],
   "source": [
    "mteam = pd.read_csv(\"data/MTeams.csv\")\n",
    "print(mteam.head())"
   ]
  },
  {
   "cell_type": "code",
   "execution_count": 17,
   "id": "c4f2ea7e-7ca3-4f79-9f06-f92df62ee706",
   "metadata": {},
   "outputs": [
    {
     "name": "stdout",
     "output_type": "stream",
     "text": [
      "CityID    0\n",
      "City      0\n",
      "State     0\n",
      "dtype: int64\n",
      "ConfAbbrev     0\n",
      "Description    0\n",
      "dtype: int64\n",
      "Season        0\n",
      "ConfAbbrev    0\n",
      "DayNum        0\n",
      "WTeamID       0\n",
      "LTeamID       0\n",
      "dtype: int64\n",
      "Season     0\n",
      "DayNum     0\n",
      "WTeamID    0\n",
      "LTeamID    0\n",
      "CRType     0\n",
      "CityID     0\n",
      "dtype: int64\n",
      "Season     0\n",
      "DayNum     0\n",
      "WTeamID    0\n",
      "WScore     0\n",
      "LTeamID    0\n",
      "LScore     0\n",
      "WLoc       0\n",
      "NumOT      0\n",
      "WFGM       0\n",
      "WFGA       0\n",
      "WFGM3      0\n",
      "WFGA3      0\n",
      "WFTM       0\n",
      "WFTA       0\n",
      "WOR        0\n",
      "WDR        0\n",
      "WAst       0\n",
      "WTO        0\n",
      "WStl       0\n",
      "WBlk       0\n",
      "WPF        0\n",
      "LFGM       0\n",
      "LFGA       0\n",
      "LFGM3      0\n",
      "LFGA3      0\n",
      "LFTM       0\n",
      "LFTA       0\n",
      "LOR        0\n",
      "LDR        0\n",
      "LAst       0\n",
      "LTO        0\n",
      "LStl       0\n",
      "LBlk       0\n",
      "LPF        0\n",
      "dtype: int64\n",
      "Seed           0\n",
      "GameRound      0\n",
      "GameSlot       0\n",
      "EarlyDayNum    0\n",
      "LateDayNum     0\n",
      "dtype: int64\n",
      "Season        0\n",
      "Slot          0\n",
      "StrongSeed    0\n",
      "WeakSeed      0\n",
      "dtype: int64\n",
      "Season    0\n",
      "Seed      0\n",
      "TeamID    0\n",
      "dtype: int64\n",
      "Season     0\n",
      "DayNum     0\n",
      "WTeamID    0\n",
      "WScore     0\n",
      "LTeamID    0\n",
      "LScore     0\n",
      "WLoc       0\n",
      "NumOT      0\n",
      "WFGM       0\n",
      "WFGA       0\n",
      "WFGM3      0\n",
      "WFGA3      0\n",
      "WFTM       0\n",
      "WFTA       0\n",
      "WOR        0\n",
      "WDR        0\n",
      "WAst       0\n",
      "WTO        0\n",
      "WStl       0\n",
      "WBlk       0\n",
      "WPF        0\n",
      "LFGM       0\n",
      "LFGA       0\n",
      "LFGM3      0\n",
      "LFGA3      0\n",
      "LFTM       0\n",
      "LFTA       0\n",
      "LOR        0\n",
      "LDR        0\n",
      "LAst       0\n",
      "LTO        0\n",
      "LStl       0\n",
      "LBlk       0\n",
      "LPF        0\n",
      "dtype: int64\n",
      "Season     0\n",
      "DayZero    0\n",
      "RegionW    0\n",
      "RegionX    0\n",
      "RegionY    0\n",
      "RegionZ    0\n",
      "dtype: int64\n",
      "Season         0\n",
      "TeamID         0\n",
      "FirstDayNum    0\n",
      "LastDayNum     0\n",
      "CoachName      0\n",
      "dtype: int64\n",
      "Season        0\n",
      "TeamID        0\n",
      "ConfAbbrev    0\n",
      "dtype: int64\n",
      "TeamID           0\n",
      "TeamName         0\n",
      "FirstD1Season    0\n",
      "LastD1Season     0\n",
      "dtype: int64\n"
     ]
    }
   ],
   "source": [
    "#check for missing values\n",
    "print(city.isnull().sum())\n",
    "print(conf.isnull().sum())\n",
    "print(mconftourneygame.isnull().sum())\n",
    "print(mgamecity.isnull().sum())\n",
    "print(mtournamentresults.isnull().sum())\n",
    "print(mseedrdslot.isnull().sum())\n",
    "print(mtourneyslot.isnull().sum())\n",
    "print(mtourneyseed.isnull().sum())\n",
    "print(mregseasonresults.isnull().sum())\n",
    "print(mseason.isnull().sum())\n",
    "print(mcoach.isnull().sum())\n",
    "print(mteamconf.isnull().sum())\n",
    "print(mteam.isnull().sum())"
   ]
  },
  {
   "cell_type": "code",
   "execution_count": 18,
   "id": "aec277b6-77be-4414-8267-069c7027f561",
   "metadata": {},
   "outputs": [
    {
     "name": "stdout",
     "output_type": "stream",
     "text": [
      "   Season  DayNum  WTeamID  LTeamID   CRType  CityID         City State\n",
      "0    2010       7     1143     1293  Regular    4027     Berkeley    CA\n",
      "1    2010       7     1314     1198  Regular    4061  Chapel Hill    NC\n",
      "2    2010       7     1326     1108  Regular    4080     Columbus    OH\n",
      "3    2010       7     1393     1107  Regular    4340     Syracuse    NY\n",
      "4    2010       9     1143     1178  Regular    4027     Berkeley    CA\n"
     ]
    }
   ],
   "source": [
    "#add city details to game Data\n",
    "#merge cities.cs with mgamecities.csv using the shared cityID column:\n",
    "\n",
    "mgamecity = mgamecity.merge(city, on='CityID', how='left')\n",
    "print(mgamecity.head())"
   ]
  },
  {
   "cell_type": "code",
   "execution_count": 19,
   "id": "56b918c4-8483-449a-9916-ed354f620b75",
   "metadata": {},
   "outputs": [
    {
     "name": "stdout",
     "output_type": "stream",
     "text": [
      "   Season ConfAbbrev  DayNum  WTeamID  LTeamID              Description\n",
      "0    2001      a_sun     121     1194     1144  Atlantic Sun Conference\n",
      "1    2001      a_sun     121     1416     1240  Atlantic Sun Conference\n",
      "2    2001      a_sun     122     1209     1194  Atlantic Sun Conference\n",
      "3    2001      a_sun     122     1359     1239  Atlantic Sun Conference\n",
      "4    2001      a_sun     122     1391     1273  Atlantic Sun Conference\n"
     ]
    }
   ],
   "source": [
    "#include conference info:\n",
    "#Use the ConfAbbrev column in Conferences.csv to add descriptions to datasets like MConferenceTourneyGames.csv.\n",
    "\n",
    "mconftourneygame = mconftourneygame.merge(conf, on='ConfAbbrev', how='left')\n",
    "print(mconftourneygame.head())"
   ]
  },
  {
   "cell_type": "code",
   "execution_count": 20,
   "id": "952b6710-d9f6-4055-8d46-ac34b1ca25db",
   "metadata": {},
   "outputs": [
    {
     "name": "stdout",
     "output_type": "stream",
     "text": [
      "   Season  DayNum  WTeamID  WScore  LTeamID  LScore WLoc  NumOT  WFGM  WFGA  \\\n",
      "0    2003     134     1421      92     1411      84    N      1    32    69   \n",
      "1    2003     136     1112      80     1436      51    N      0    31    66   \n",
      "2    2003     136     1113      84     1272      71    N      0    31    59   \n",
      "3    2003     136     1141      79     1166      73    N      0    29    53   \n",
      "4    2003     136     1143      76     1301      74    N      1    27    64   \n",
      "\n",
      "   ...  LDR  LAst  LTO  LStl  LBlk  LPF  CRType  CityID  City  State  \n",
      "0  ...   28    16   15     5     0   22     NaN     NaN   NaN    NaN  \n",
      "1  ...   26    12   17    10     3   15     NaN     NaN   NaN    NaN  \n",
      "2  ...   22    11   12     2     5   18     NaN     NaN   NaN    NaN  \n",
      "3  ...   17    20   21     6     6   21     NaN     NaN   NaN    NaN  \n",
      "4  ...   26    16   14     5     8   19     NaN     NaN   NaN    NaN  \n",
      "\n",
      "[5 rows x 38 columns]\n"
     ]
    }
   ],
   "source": [
    "#Combine Game and Tournament Results\n",
    "#Merge MNCAATourneyDetailedResults.csv with MGameCities.csv to link game results with locations.\n",
    "\n",
    "master_data = mtournamentresults.merge(mgamecity, on=['Season', 'DayNum', 'WTeamID', 'LTeamID'], how='left')\n",
    "print(master_data.head())"
   ]
  },
  {
   "cell_type": "code",
   "execution_count": 21,
   "id": "30cd799a-e4f1-45f1-805d-bfbe3a244d7f",
   "metadata": {},
   "outputs": [
    {
     "name": "stdout",
     "output_type": "stream",
     "text": [
      "   Season  DayNum  WTeamID  WScore  LTeamID  LScore WLoc  NumOT  WFGM  WFGA  \\\n",
      "0    2003     134     1421      92     1411      84    N      1    32    69   \n",
      "1    2003     136     1112      80     1436      51    N      0    31    66   \n",
      "2    2003     136     1113      84     1272      71    N      0    31    59   \n",
      "3    2003     136     1141      79     1166      73    N      0    29    53   \n",
      "4    2003     136     1143      76     1301      74    N      1    27    64   \n",
      "\n",
      "   ...  LBlk  LPF  CRType  CityID  City  State  Seed  TeamID  Seed_L  TeamID_L  \n",
      "0  ...     0   22     NaN     NaN   NaN    NaN  X16b    1421    X16a      1411  \n",
      "1  ...     3   15     NaN     NaN   NaN    NaN   Z01    1112     Z16      1436  \n",
      "2  ...     5   18     NaN     NaN   NaN    NaN   Z10    1113     Z07      1272  \n",
      "3  ...     6   21     NaN     NaN   NaN    NaN   Z11    1141     Z06      1166  \n",
      "4  ...     8   19     NaN     NaN   NaN    NaN   W08    1143     W09      1301  \n",
      "\n",
      "[5 rows x 42 columns]\n"
     ]
    }
   ],
   "source": [
    "#Add Tournament Seeds and Slots\n",
    "#Incorporate seeding and slot information by merging MTourneySeeds.csv and MTourneySlots.csv into the master_data.\n",
    "\n",
    "#Add Seeding Information:\n",
    "master_data = master_data.merge(mtourneyseed, left_on=['Season', 'WTeamID'], right_on=['Season', 'TeamID'], how='left', suffixes=('', '_W'))\n",
    "master_data = master_data.merge(mtourneyseed, left_on=['Season', 'LTeamID'], right_on=['Season', 'TeamID'], how='left', suffixes=('', '_L'))\n",
    "print(master_data.head())\n",
    "\n",
    "#Add slot data:\n",
    "master_data = master_data.merge(mtourneyslot, on='Season', how='left')\n"
   ]
  },
  {
   "cell_type": "code",
   "execution_count": 22,
   "id": "ad0b505a-acdf-4066-ac69-331ae23693c2",
   "metadata": {},
   "outputs": [],
   "source": [
    "#Add Coach and Team Data\n",
    "#Enhance with MCoach.csv and MTeam.csv to include team and coach details.\n",
    "\n",
    "#Add Team Names:\n",
    "master_data = master_data.merge(mteam, left_on='WTeamID', right_on='TeamID', how='left', suffixes=('', '_W'))\n",
    "master_data = master_data.merge(mteam, left_on='LTeamID', right_on='TeamID', how='left', suffixes=('', '_L'))\n",
    "\n",
    "#Add Coach Details:\n",
    "master_data = master_data.merge(mcoach, left_on=['Season', 'WTeamID'], right_on=['Season', 'TeamID'], how='left', suffixes=('', '_W'))\n",
    "master_data = master_data.merge(mcoach, left_on=['Season', 'LTeamID'], right_on=['Season', 'TeamID'], how='left', suffixes=('', '_L'))"
   ]
  },
  {
   "cell_type": "code",
   "execution_count": 23,
   "id": "939777da-155b-43e6-982b-24549064239a",
   "metadata": {},
   "outputs": [],
   "source": [
    "#Clean\n",
    "#Drop Unnecessary Columns: Remove redundant columns created during merges, like extra TeamID fields.\n",
    "master_data.drop(['TeamID', 'TeamID_W', 'TeamID_L'], axis=1, inplace=True)"
   ]
  },
  {
   "cell_type": "code",
   "execution_count": 24,
   "id": "014059a8-6a45-44df-bb4a-6f354a623f0c",
   "metadata": {},
   "outputs": [
    {
     "name": "stdout",
     "output_type": "stream",
     "text": [
      "<class 'pandas.core.frame.DataFrame'>\n",
      "RangeIndex: 91856 entries, 0 to 91855\n",
      "Data columns (total 55 columns):\n",
      " #   Column           Non-Null Count  Dtype  \n",
      "---  ------           --------------  -----  \n",
      " 0   Season           91856 non-null  int64  \n",
      " 1   DayNum           91856 non-null  int64  \n",
      " 2   WTeamID          91856 non-null  int64  \n",
      " 3   WScore           91856 non-null  int64  \n",
      " 4   LTeamID          91856 non-null  int64  \n",
      " 5   LScore           91856 non-null  int64  \n",
      " 6   WLoc             91856 non-null  object \n",
      " 7   NumOT            91856 non-null  int64  \n",
      " 8   WFGM             91856 non-null  int64  \n",
      " 9   WFGA             91856 non-null  int64  \n",
      " 10  WFGM3            91856 non-null  int64  \n",
      " 11  WFGA3            91856 non-null  int64  \n",
      " 12  WFTM             91856 non-null  int64  \n",
      " 13  WFTA             91856 non-null  int64  \n",
      " 14  WOR              91856 non-null  int64  \n",
      " 15  WDR              91856 non-null  int64  \n",
      " 16  WAst             91856 non-null  int64  \n",
      " 17  WTO              91856 non-null  int64  \n",
      " 18  WStl             91856 non-null  int64  \n",
      " 19  WBlk             91856 non-null  int64  \n",
      " 20  WPF              91856 non-null  int64  \n",
      " 21  LFGM             91856 non-null  int64  \n",
      " 22  LFGA             91856 non-null  int64  \n",
      " 23  LFGM3            91856 non-null  int64  \n",
      " 24  LFGA3            91856 non-null  int64  \n",
      " 25  LFTM             91856 non-null  int64  \n",
      " 26  LFTA             91856 non-null  int64  \n",
      " 27  LOR              91856 non-null  int64  \n",
      " 28  LDR              91856 non-null  int64  \n",
      " 29  LAst             91856 non-null  int64  \n",
      " 30  LTO              91856 non-null  int64  \n",
      " 31  LStl             91856 non-null  int64  \n",
      " 32  LBlk             91856 non-null  int64  \n",
      " 33  LPF              91856 non-null  int64  \n",
      " 34  CRType           63056 non-null  object \n",
      " 35  CityID           63056 non-null  float64\n",
      " 36  City             63056 non-null  object \n",
      " 37  State            63056 non-null  object \n",
      " 38  Seed             91856 non-null  object \n",
      " 39  Seed_L           91856 non-null  object \n",
      " 40  Slot             91856 non-null  object \n",
      " 41  StrongSeed       91856 non-null  object \n",
      " 42  WeakSeed         91856 non-null  object \n",
      " 43  TeamName         91856 non-null  object \n",
      " 44  FirstD1Season    91856 non-null  int64  \n",
      " 45  LastD1Season     91856 non-null  int64  \n",
      " 46  TeamName_L       91856 non-null  object \n",
      " 47  FirstD1Season_L  91856 non-null  int64  \n",
      " 48  LastD1Season_L   91856 non-null  int64  \n",
      " 49  FirstDayNum      91856 non-null  int64  \n",
      " 50  LastDayNum       91856 non-null  int64  \n",
      " 51  CoachName        91856 non-null  object \n",
      " 52  FirstDayNum_L    91856 non-null  int64  \n",
      " 53  LastDayNum_L     91856 non-null  int64  \n",
      " 54  CoachName_L      91856 non-null  object \n",
      "dtypes: float64(1), int64(41), object(13)\n",
      "memory usage: 38.5+ MB\n",
      "None\n",
      "   Season  DayNum  WTeamID  WScore  LTeamID  LScore WLoc  NumOT  WFGM  WFGA  \\\n",
      "0    2003     134     1421      92     1411      84    N      1    32    69   \n",
      "1    2003     134     1421      92     1411      84    N      1    32    69   \n",
      "2    2003     134     1421      92     1411      84    N      1    32    69   \n",
      "3    2003     134     1421      92     1411      84    N      1    32    69   \n",
      "4    2003     134     1421      92     1411      84    N      1    32    69   \n",
      "\n",
      "   ...  LastD1Season   TeamName_L  FirstD1Season_L  LastD1Season_L  \\\n",
      "0  ...          2025  TX Southern             1985            2025   \n",
      "1  ...          2025  TX Southern             1985            2025   \n",
      "2  ...          2025  TX Southern             1985            2025   \n",
      "3  ...          2025  TX Southern             1985            2025   \n",
      "4  ...          2025  TX Southern             1985            2025   \n",
      "\n",
      "   FirstDayNum  LastDayNum         CoachName  FirstDayNum_L  LastDayNum_L  \\\n",
      "0            0         154  eddie_biedenbach              0           154   \n",
      "1            0         154  eddie_biedenbach              0           154   \n",
      "2            0         154  eddie_biedenbach              0           154   \n",
      "3            0         154  eddie_biedenbach              0           154   \n",
      "4            0         154  eddie_biedenbach              0           154   \n",
      "\n",
      "       CoachName_L  \n",
      "0  ronnie_courtney  \n",
      "1  ronnie_courtney  \n",
      "2  ronnie_courtney  \n",
      "3  ronnie_courtney  \n",
      "4  ronnie_courtney  \n",
      "\n",
      "[5 rows x 55 columns]\n"
     ]
    }
   ],
   "source": [
    "#Check final dataset:\n",
    "\n",
    "print(master_data.info())\n",
    "print(master_data.head())"
   ]
  },
  {
   "cell_type": "code",
   "execution_count": 25,
   "id": "3202ad95-eaed-4449-8f34-21ff5c993ef2",
   "metadata": {},
   "outputs": [
    {
     "name": "stdout",
     "output_type": "stream",
     "text": [
      "Number of duplicate rows: 0\n",
      "Duplicates removed.\n"
     ]
    }
   ],
   "source": [
    "#Double check for duplicates:\n",
    "# Count duplicates\n",
    "print(f\"Number of duplicate rows: {master_data.duplicated().sum()}\")\n",
    "\n",
    "# Remove duplicates\n",
    "master_data = master_data.drop_duplicates()\n",
    "print(\"Duplicates removed.\")"
   ]
  },
  {
   "cell_type": "code",
   "execution_count": 26,
   "id": "407f1540-3551-4da4-9818-78b5625cea60",
   "metadata": {},
   "outputs": [
    {
     "name": "stdout",
     "output_type": "stream",
     "text": [
      "             Season        DayNum       WTeamID        WScore       LTeamID  \\\n",
      "count  91856.000000  91856.000000  91856.000000  91856.000000  91856.000000   \n",
      "mean    2013.443215    139.082858   1289.838748     75.381369   1293.615006   \n",
      "std        6.302846      4.227495    102.999390     10.788300    105.840759   \n",
      "min     2003.000000    134.000000   1101.000000     47.000000   1101.000000   \n",
      "25%     2008.000000    136.000000   1211.000000     68.000000   1210.000000   \n",
      "50%     2013.000000    137.000000   1277.000000     75.000000   1293.000000   \n",
      "75%     2018.000000    139.000000   1393.000000     82.000000   1393.000000   \n",
      "max     2024.000000    154.000000   1463.000000    121.000000   1463.000000   \n",
      "\n",
      "            LScore         NumOT          WFGM          WFGA        WFGM3  \\\n",
      "count  91856.00000  91856.000000  91856.000000  91856.000000  91856.00000   \n",
      "mean      63.73134      0.065635     26.480023     55.819141      7.10056   \n",
      "std       10.36009      0.282320      4.763481      7.195692      3.03811   \n",
      "min       29.00000      0.000000     13.000000     34.000000      0.00000   \n",
      "25%       56.00000      0.000000     23.000000     51.000000      5.00000   \n",
      "50%       63.00000      0.000000     26.000000     56.000000      7.00000   \n",
      "75%       71.00000      0.000000     30.000000     60.000000      9.00000   \n",
      "max      105.00000      2.000000     44.000000     84.000000     18.00000   \n",
      "\n",
      "       ...           LPF        CityID  FirstD1Season  LastD1Season  \\\n",
      "count  ...  91856.000000  63056.000000   91856.000000       91856.0   \n",
      "mean   ...     18.577262   4187.224562    1985.324214        2025.0   \n",
      "std    ...      4.225305    102.933697       2.276676           0.0   \n",
      "min    ...      7.000000   4003.000000    1985.000000        2025.0   \n",
      "25%    ...     16.000000   4091.000000    1985.000000        2025.0   \n",
      "50%    ...     18.000000   4174.000000    1985.000000        2025.0   \n",
      "75%    ...     21.000000   4274.000000    1985.000000        2025.0   \n",
      "max    ...     33.000000   4368.000000    2014.000000        2025.0   \n",
      "\n",
      "       FirstD1Season_L  LastD1Season_L   FirstDayNum    LastDayNum  \\\n",
      "count     91856.000000    91856.000000  91856.000000  91856.000000   \n",
      "mean       1986.204668     2024.998541      0.206421    153.528077   \n",
      "std           4.458847        0.053995      3.169521      7.142766   \n",
      "min        1985.000000     2023.000000      0.000000     41.000000   \n",
      "25%        1985.000000     2025.000000      0.000000    154.000000   \n",
      "50%        1985.000000     2025.000000      0.000000    154.000000   \n",
      "75%        1985.000000     2025.000000      0.000000    154.000000   \n",
      "max        2014.000000     2025.000000     67.000000    154.000000   \n",
      "\n",
      "       FirstDayNum_L  LastDayNum_L  \n",
      "count   91856.000000  91856.000000  \n",
      "mean        0.344474    153.676254  \n",
      "std         5.662146      5.372231  \n",
      "min         0.000000     41.000000  \n",
      "25%         0.000000    154.000000  \n",
      "50%         0.000000    154.000000  \n",
      "75%         0.000000    154.000000  \n",
      "max       132.000000    154.000000  \n",
      "\n",
      "[8 rows x 42 columns]\n"
     ]
    }
   ],
   "source": [
    "#verify column names:\n",
    "# Check for negative or unexpected values in numeric columns\n",
    "print(master_data.describe())"
   ]
  },
  {
   "cell_type": "code",
   "execution_count": 27,
   "id": "b8210db1-42eb-44dd-8488-f52db519b489",
   "metadata": {},
   "outputs": [],
   "source": [
    "#Handle missing values:\n",
    "# Fill missing values with \"Unknown\" without chaining\n",
    "master_data['CRType'] = master_data['CRType'].fillna(\"Unknown\")\n",
    "master_data['City'] = master_data['City'].fillna(\"Unknown\")\n",
    "master_data['State'] = master_data['State'].fillna(\"Unknown\")"
   ]
  },
  {
   "cell_type": "code",
   "execution_count": 28,
   "id": "eabd178d-886d-427c-a8f0-312c0c55ef7e",
   "metadata": {},
   "outputs": [
    {
     "name": "stdout",
     "output_type": "stream",
     "text": [
      "Season               int64\n",
      "DayNum               int64\n",
      "WTeamID              int64\n",
      "WScore               int64\n",
      "LTeamID              int64\n",
      "LScore               int64\n",
      "WLoc                object\n",
      "NumOT                int64\n",
      "WFGM                 int64\n",
      "WFGA                 int64\n",
      "WFGM3                int64\n",
      "WFGA3                int64\n",
      "WFTM                 int64\n",
      "WFTA                 int64\n",
      "WOR                  int64\n",
      "WDR                  int64\n",
      "WAst                 int64\n",
      "WTO                  int64\n",
      "WStl                 int64\n",
      "WBlk                 int64\n",
      "WPF                  int64\n",
      "LFGM                 int64\n",
      "LFGA                 int64\n",
      "LFGM3                int64\n",
      "LFGA3                int64\n",
      "LFTM                 int64\n",
      "LFTA                 int64\n",
      "LOR                  int64\n",
      "LDR                  int64\n",
      "LAst                 int64\n",
      "LTO                  int64\n",
      "LStl                 int64\n",
      "LBlk                 int64\n",
      "LPF                  int64\n",
      "CRType              object\n",
      "CityID             float64\n",
      "City                object\n",
      "State               object\n",
      "Seed                object\n",
      "Seed_L              object\n",
      "Slot                object\n",
      "StrongSeed          object\n",
      "WeakSeed            object\n",
      "TeamName            object\n",
      "FirstD1Season        int64\n",
      "LastD1Season         int64\n",
      "TeamName_L          object\n",
      "FirstD1Season_L      int64\n",
      "LastD1Season_L       int64\n",
      "FirstDayNum          int64\n",
      "LastDayNum           int64\n",
      "CoachName           object\n",
      "FirstDayNum_L        int64\n",
      "LastDayNum_L         int64\n",
      "CoachName_L         object\n",
      "dtype: object\n"
     ]
    }
   ],
   "source": [
    "#Confirm data types:\n",
    "#Ensure all columns are in the appropriate data type (e.g., numeric for stats, string for names):\n",
    "print(master_data.dtypes)\n",
    "\n",
    "# Convert `CityID` to integer (if not already)\n",
    "master_data['CityID'] = master_data['CityID'].fillna(0).astype(int)\n"
   ]
  },
  {
   "cell_type": "code",
   "execution_count": 29,
   "id": "cf7bb13c-54eb-4b7d-a87d-b3a182c4af30",
   "metadata": {},
   "outputs": [
    {
     "name": "stdout",
     "output_type": "stream",
     "text": [
      "<class 'pandas.core.frame.DataFrame'>\n",
      "RangeIndex: 91856 entries, 0 to 91855\n",
      "Data columns (total 55 columns):\n",
      " #   Column           Non-Null Count  Dtype \n",
      "---  ------           --------------  ----- \n",
      " 0   Season           91856 non-null  int64 \n",
      " 1   DayNum           91856 non-null  int64 \n",
      " 2   WTeamID          91856 non-null  int64 \n",
      " 3   WScore           91856 non-null  int64 \n",
      " 4   LTeamID          91856 non-null  int64 \n",
      " 5   LScore           91856 non-null  int64 \n",
      " 6   WLoc             91856 non-null  object\n",
      " 7   NumOT            91856 non-null  int64 \n",
      " 8   WFGM             91856 non-null  int64 \n",
      " 9   WFGA             91856 non-null  int64 \n",
      " 10  WFGM3            91856 non-null  int64 \n",
      " 11  WFGA3            91856 non-null  int64 \n",
      " 12  WFTM             91856 non-null  int64 \n",
      " 13  WFTA             91856 non-null  int64 \n",
      " 14  WOR              91856 non-null  int64 \n",
      " 15  WDR              91856 non-null  int64 \n",
      " 16  WAst             91856 non-null  int64 \n",
      " 17  WTO              91856 non-null  int64 \n",
      " 18  WStl             91856 non-null  int64 \n",
      " 19  WBlk             91856 non-null  int64 \n",
      " 20  WPF              91856 non-null  int64 \n",
      " 21  LFGM             91856 non-null  int64 \n",
      " 22  LFGA             91856 non-null  int64 \n",
      " 23  LFGM3            91856 non-null  int64 \n",
      " 24  LFGA3            91856 non-null  int64 \n",
      " 25  LFTM             91856 non-null  int64 \n",
      " 26  LFTA             91856 non-null  int64 \n",
      " 27  LOR              91856 non-null  int64 \n",
      " 28  LDR              91856 non-null  int64 \n",
      " 29  LAst             91856 non-null  int64 \n",
      " 30  LTO              91856 non-null  int64 \n",
      " 31  LStl             91856 non-null  int64 \n",
      " 32  LBlk             91856 non-null  int64 \n",
      " 33  LPF              91856 non-null  int64 \n",
      " 34  CRType           91856 non-null  object\n",
      " 35  CityID           91856 non-null  int64 \n",
      " 36  City             91856 non-null  object\n",
      " 37  State            91856 non-null  object\n",
      " 38  Seed             91856 non-null  object\n",
      " 39  Seed_L           91856 non-null  object\n",
      " 40  Slot             91856 non-null  object\n",
      " 41  StrongSeed       91856 non-null  object\n",
      " 42  WeakSeed         91856 non-null  object\n",
      " 43  TeamName         91856 non-null  object\n",
      " 44  FirstD1Season    91856 non-null  int64 \n",
      " 45  LastD1Season     91856 non-null  int64 \n",
      " 46  TeamName_L       91856 non-null  object\n",
      " 47  FirstD1Season_L  91856 non-null  int64 \n",
      " 48  LastD1Season_L   91856 non-null  int64 \n",
      " 49  FirstDayNum      91856 non-null  int64 \n",
      " 50  LastDayNum       91856 non-null  int64 \n",
      " 51  CoachName        91856 non-null  object\n",
      " 52  FirstDayNum_L    91856 non-null  int64 \n",
      " 53  LastDayNum_L     91856 non-null  int64 \n",
      " 54  CoachName_L      91856 non-null  object\n",
      "dtypes: int64(42), object(13)\n",
      "memory usage: 38.5+ MB\n",
      "None\n",
      "   Season  DayNum  WTeamID  WScore  LTeamID  LScore WLoc  NumOT  WFGM  WFGA  \\\n",
      "0    2003     134     1421      92     1411      84    N      1    32    69   \n",
      "1    2003     134     1421      92     1411      84    N      1    32    69   \n",
      "2    2003     134     1421      92     1411      84    N      1    32    69   \n",
      "3    2003     134     1421      92     1411      84    N      1    32    69   \n",
      "4    2003     134     1421      92     1411      84    N      1    32    69   \n",
      "\n",
      "   ...  LastD1Season   TeamName_L  FirstD1Season_L  LastD1Season_L  \\\n",
      "0  ...          2025  TX Southern             1985            2025   \n",
      "1  ...          2025  TX Southern             1985            2025   \n",
      "2  ...          2025  TX Southern             1985            2025   \n",
      "3  ...          2025  TX Southern             1985            2025   \n",
      "4  ...          2025  TX Southern             1985            2025   \n",
      "\n",
      "   FirstDayNum  LastDayNum         CoachName  FirstDayNum_L  LastDayNum_L  \\\n",
      "0            0         154  eddie_biedenbach              0           154   \n",
      "1            0         154  eddie_biedenbach              0           154   \n",
      "2            0         154  eddie_biedenbach              0           154   \n",
      "3            0         154  eddie_biedenbach              0           154   \n",
      "4            0         154  eddie_biedenbach              0           154   \n",
      "\n",
      "       CoachName_L  \n",
      "0  ronnie_courtney  \n",
      "1  ronnie_courtney  \n",
      "2  ronnie_courtney  \n",
      "3  ronnie_courtney  \n",
      "4  ronnie_courtney  \n",
      "\n",
      "[5 rows x 55 columns]\n"
     ]
    }
   ],
   "source": [
    "#Re-check Dataset Overview\n",
    "#After cleaning, review the updated dataset:\n",
    "print(master_data.info())\n",
    "print(master_data.head())"
   ]
  },
  {
   "cell_type": "code",
   "execution_count": 46,
   "id": "a8e282e3-53c9-4b23-9354-9c781aca480b",
   "metadata": {},
   "outputs": [
    {
     "name": "stdout",
     "output_type": "stream",
     "text": [
      "Master data saved to data/MasterData2025.csv\n"
     ]
    }
   ],
   "source": [
    "# Save master_data to a CSV file\n",
    "output_file = \"data/MasterData2025.csv\"  # Specify your desired file path\n",
    "master_data.to_csv(output_file, index=False)\n",
    "\n",
    "print(f\"Master data saved to {output_file}\")"
   ]
  },
  {
   "cell_type": "code",
   "execution_count": 30,
   "id": "87afe06b-3ddd-4a89-954a-f38005343222",
   "metadata": {},
   "outputs": [
    {
     "name": "stderr",
     "output_type": "stream",
     "text": [
      "/opt/conda/lib/python3.12/site-packages/seaborn/_oldcore.py:1119: FutureWarning: use_inf_as_na option is deprecated and will be removed in a future version. Convert inf values to NaN before operating instead.\n",
      "  with pd.option_context('mode.use_inf_as_na', True):\n"
     ]
    },
    {
     "name": "stdout",
     "output_type": "stream",
     "text": [
      "TeamName\n",
      "Wright St       93.0\n",
      "Buffalo         90.0\n",
      "Utah St         88.0\n",
      "G Washington    88.0\n",
      "Grambling       88.0\n",
      "Name: WScore, dtype: float64\n"
     ]
    },
    {
     "data": {
      "image/png": "[encoded data removed]",
      "text/plain": [
       "<Figure size 640x480 with 1 Axes>"
      ]
     },
     "metadata": {},
     "output_type": "display_data"
    }
   ],
   "source": [
    "#Exploratory Data Analysis (EDA)\n",
    "#Visualize trends and distributions:\n",
    "# Replace inf values with NaN\n",
    "master_data.replace([float('inf'), -float('inf')], float('nan'), inplace=True)\n",
    "\n",
    "# Optionally, drop rows with NaN\n",
    "master_data.dropna(inplace=True)\n",
    "\n",
    "#Game Performance:\n",
    "sns.histplot(master_data['WScore'], bins=30, kde=True)\n",
    "\n",
    "#Team insights: Group team or coach to explore performance metrics\n",
    "team_performance = master_data.groupby('TeamName')['WScore'].mean()\n",
    "print(team_performance.sort_values(ascending=False).head())\n"
   ]
  },
  {
   "cell_type": "code",
   "execution_count": 31,
   "id": "aeff01d1-a13a-4dbe-bce9-a4e51dd22224",
   "metadata": {},
   "outputs": [
    {
     "name": "stdout",
     "output_type": "stream",
     "text": [
      "TeamName\n",
      "Abilene Chr        53.000000\n",
      "Alabama            83.406286\n",
      "Arizona            80.662974\n",
      "Arizona St         80.625954\n",
      "Ark Little Rock    85.000000\n",
      "Name: WScore, dtype: float64\n"
     ]
    }
   ],
   "source": [
    "#Calculate Average Scores per Team\n",
    "# group by TeamName and compute the average WScore for each team:\n",
    "# Calculate average scores per team\n",
    "team_scores = master_data.groupby('TeamName')['WScore'].mean()\n",
    "\n",
    "# Display the top 5 teams to ensure it looks correct\n",
    "print(team_scores.head())\n"
   ]
  },
  {
   "cell_type": "code",
   "execution_count": 32,
   "id": "1a44497e-f4e1-4857-8648-18cc0a35f63a",
   "metadata": {},
   "outputs": [],
   "source": [
    "#Isolate High-Scoring and Low-Scoring Teams\n",
    "#Define thresholds to group teams:\n",
    "\n",
    "#High-scoring teams: Teams with an average WScore in the top 10%.\n",
    "\n",
    "#Low-scoring teams: Teams with an average WScore in the bottom 10%.\n",
    "# Calculate average scores per team\n",
    "team_scores = master_data.groupby('TeamName')['WScore'].mean()\n",
    "\n",
    "# Define thresholds\n",
    "high_scorers = team_scores[team_scores >= team_scores.quantile(0.9)].index\n",
    "low_scorers = team_scores[team_scores <= team_scores.quantile(0.1)].index\n",
    "\n",
    "# Filter data for high- and low-scoring teams\n",
    "high_scorer_data = master_data[master_data['TeamName'].isin(high_scorers)]\n",
    "low_scorer_data = master_data[master_data['TeamName'].isin(low_scorers)]\n",
    "\n"
   ]
  },
  {
   "cell_type": "code",
   "execution_count": 33,
   "id": "f07e276f-36e3-4761-890f-21e9b113dce0",
   "metadata": {},
   "outputs": [
    {
     "name": "stdout",
     "output_type": "stream",
     "text": [
      "High-Scoring Teams Metrics:\n",
      "WFGA    61.658230\n",
      "WTO     11.629359\n",
      "WAst    16.393513\n",
      "dtype: float64\n",
      "\n",
      "Low-Scoring Teams Metrics:\n",
      "WFGA    50.751506\n",
      "WTO     10.975610\n",
      "WAst    11.899570\n",
      "dtype: float64\n"
     ]
    }
   ],
   "source": [
    "#Analyze Key Metrics\n",
    "#Compare key stats between the two groups:\n",
    "\n",
    "# Calculate averages for high-scoring teams\n",
    "high_stats = high_scorer_data[['WFGA', 'WTO', 'WAst']].mean()\n",
    "\n",
    "# Calculate averages for low-scoring teams\n",
    "low_stats = low_scorer_data[['WFGA', 'WTO', 'WAst']].mean()\n",
    "\n",
    "# Display the results\n",
    "print(\"High-Scoring Teams Metrics:\")\n",
    "print(high_stats)\n",
    "\n",
    "print(\"\\nLow-Scoring Teams Metrics:\")\n",
    "print(low_stats)\n"
   ]
  },
  {
   "cell_type": "code",
   "execution_count": 34,
   "id": "c04df949-5541-4325-8100-b80a6749469f",
   "metadata": {},
   "outputs": [
    {
     "data": {
      "image/png": "[encoded data removed]",
      "text/plain": [
       "<Figure size 800x600 with 1 Axes>"
      ]
     },
     "metadata": {},
     "output_type": "display_data"
    }
   ],
   "source": [
    "#Visualize the Differences\n",
    "#Use visualizations to highlight trends:\n",
    "\n",
    "#Bar Plot: Compare metrics side by side.\n",
    "metrics = pd.DataFrame({'High Scorers': high_stats, 'Low Scorers': low_stats})\n",
    "metrics.plot(kind='bar', figsize=(8, 6))\n",
    "plt.title('Comparison of Key Metrics: High vs Low Scoring Teams')\n",
    "plt.ylabel('Average Value')\n",
    "plt.show()"
   ]
  },
  {
   "cell_type": "code",
   "execution_count": 35,
   "id": "427a1348-fb6d-4a99-8502-9e7ef0b9833e",
   "metadata": {},
   "outputs": [],
   "source": [
    "#key insights when comparing high-scoring teams to low-scoring teams on metrics like field goal attempts (WFGA), turnovers (WTO), and assists (WAst):\n",
    "\n",
    "#Field Goal Attempts (WFGA): \n",
    "#High-scoring teams have significantly more attempts (around 60 on average) compared to low-scoring teams (approximately 50). \n",
    "#This suggests offensive aggression is a big factor in their success.\n",
    "\n",
    "#Turnovers (WTO): \n",
    "#Interestingly, both high and low-scoring teams have similar averages for turnovers, hovering around 10. \n",
    "#This indicates that turnovers might not be a differentiating factor between these groups.\n",
    "\n",
    "#Assists (WAst): \n",
    "#High-scoring teams excel here, with an average of around 15 assists compared to 10 for low-scoring teams. \n",
    "#This suggests that better teamwork and ball distribution contribute to higher scores."
   ]
  },
  {
   "cell_type": "code",
   "execution_count": 36,
   "id": "6f78ac89-3bf2-49f9-be11-01a3aa3ad09a",
   "metadata": {},
   "outputs": [
    {
     "name": "stdout",
     "output_type": "stream",
     "text": [
      "Season  TeamName  \n",
      "2018    Xavier        102.0\n",
      "2010    BYU            99.0\n",
      "2007    Tennessee      99.0\n",
      "2023    Arizona St     98.0\n",
      "2024    Texas A&M      98.0\n",
      "Name: WScore, dtype: float64\n"
     ]
    }
   ],
   "source": [
    "#Analyze Team Performance by Season:\n",
    "\n",
    "#Are these high averages consistent over multiple seasons, or do they vary year by year?\n",
    "\n",
    "#Group by Season and TeamName to check for trends:\n",
    "team_season_perf = master_data.groupby(['Season', 'TeamName'])['WScore'].mean()\n",
    "print(team_season_perf.sort_values(ascending=False).head())\n"
   ]
  },
  {
   "cell_type": "code",
   "execution_count": 37,
   "id": "e2dd274d-44dd-43c1-bfbc-8d0fea9cca30",
   "metadata": {},
   "outputs": [
    {
     "data": {
      "image/png": "[encoded data removed]",
      "text/plain": [
       "<Figure size 640x480 with 1 Axes>"
      ]
     },
     "metadata": {},
     "output_type": "display_data"
    }
   ],
   "source": [
    "#Home Court Advantage:\n",
    "#Check if these teams score significantly higher in home or neutral games (WLoc).\n",
    "#Visualize the Data:\n",
    "#Plot the average scores for these teams to highlight their dominance:\n",
    "import matplotlib.pyplot as plt\n",
    "high_scorers = ['Wright St', 'Buffalo', 'Utah St', 'G Washington', 'Grambling']\n",
    "filtered_data = master_data[master_data['TeamName'].isin(high_scorers)]\n",
    "filtered_data.groupby('TeamName')['WScore'].mean().plot(kind='bar')\n",
    "plt.title('Average Winning Scores of Top Teams')\n",
    "plt.ylabel('Average WScore')\n",
    "plt.show()"
   ]
  },
  {
   "cell_type": "code",
   "execution_count": 39,
   "id": "b015646e-1d11-4a53-ad39-1bcb93ece091",
   "metadata": {},
   "outputs": [
    {
     "name": "stdout",
     "output_type": "stream",
     "text": [
      "  region  home_seed   home_team  away_seed       away_team\n",
      "0  south          1      Auburn         16     Alabama St.\n",
      "1  south          8  Louisville          9       Creighton\n",
      "2  south          5    Michigan         12    UC San Diego\n",
      "3  south          4   Texas A&M         13            Yale\n",
      "4  south          6    Ole Miss         11  North Carolina\n"
     ]
    }
   ],
   "source": [
    "bracket2025 = pd.read_csv(\"data/Mbracket2025.csv\")\n",
    "print(bracket2025.head())"
   ]
  },
  {
   "cell_type": "code",
   "execution_count": 45,
   "id": "dfbd65d2-8618-46dc-a0d0-9975830239ab",
   "metadata": {},
   "outputs": [
    {
     "name": "stdout",
     "output_type": "stream",
     "text": [
      "Complete bracket saved to data/CompleteBracket2025.csv\n"
     ]
    }
   ],
   "source": [
    "#Extend bracket for future rounds:\n",
    "\n",
    "# Load the existing bracket\n",
    "file_path = \"data/Mbracket2025.csv\"  # Adjust this path if needed\n",
    "bracket2025 = pd.read_csv(file_path)\n",
    "\n",
    "# Define the tournament structure\n",
    "rounds = {\n",
    "    \"Round of 64\": 32,\n",
    "    \"Round of 32\": 16,\n",
    "    \"Sweet 16\": 8,\n",
    "    \"Elite 8\": 4,\n",
    "    \"Final Four\": 2,\n",
    "    \"Championship\": 1\n",
    "}\n",
    "\n",
    "# Initialize expanded bracket with the existing data\n",
    "expanded_bracket = bracket2025.copy()\n",
    "\n",
    "# Add placeholders for each subsequent round\n",
    "regions = expanded_bracket['region'].unique()  # Extract unique regions\n",
    "for round_name, game_count in list(rounds.items())[1:-2]:  # Skip Round of 64 and stop before Final Four\n",
    "    for region in regions:\n",
    "        for game_num in range(1, (game_count // len(regions)) + 1):\n",
    "            # Create placeholder rows\n",
    "            new_row = {\n",
    "                \"region\": region,\n",
    "                \"home_seed\": None,\n",
    "                \"home_team\": f\"Winner {region} {round_name} Game {2 * game_num - 1}\",\n",
    "                \"away_seed\": None,\n",
    "                \"away_team\": f\"Winner {region} {round_name} Game {2 * game_num}\"\n",
    "            }\n",
    "            expanded_bracket = pd.concat([expanded_bracket, pd.DataFrame([new_row])], ignore_index=True)\n",
    "\n",
    "# Add Final Four placeholders\n",
    "final_four = [\n",
    "    {\"region\": \"Final Four\", \"home_seed\": None, \"home_team\": \"Winner East\", \"away_seed\": None, \"away_team\": \"Winner South\"},\n",
    "    {\"region\": \"Final Four\", \"home_seed\": None, \"home_team\": \"Winner West\", \"away_seed\": None, \"away_team\": \"Winner Midwest\"}\n",
    "]\n",
    "\n",
    "# Add Championship placeholder\n",
    "championship = [\n",
    "    {\"region\": \"Championship\", \"home_seed\": None, \"home_team\": \"Winner Final Four Game 1\", \"away_seed\": None, \"away_team\": \"Winner Final Four Game 2\"}\n",
    "]\n",
    "\n",
    "# Append Final Four and Championship placeholders\n",
    "expanded_bracket = pd.concat([expanded_bracket, pd.DataFrame(final_four)], ignore_index=True)\n",
    "expanded_bracket = pd.concat([expanded_bracket, pd.DataFrame(championship)], ignore_index=True)\n",
    "\n",
    "# Save the complete bracket to a new CSV\n",
    "output_file = \"data/CompleteBracket2025.csv\"  # Adjust this path if needed\n",
    "expanded_bracket.to_csv(output_file, index=False)\n",
    "\n",
    "print(f\"Complete bracket saved to {output_file}\")\n"
   ]
  },
  {
   "cell_type": "code",
   "execution_count": 43,
   "id": "6c30dfa4-89a6-488e-8cba-d6f3bb7d300e",
   "metadata": {},
   "outputs": [
    {
     "name": "stdout",
     "output_type": "stream",
     "text": [
      "  region  home_seed   home_team  away_seed       away_team\n",
      "0  south        1.0      Auburn       16.0     Alabama St.\n",
      "1  south        8.0  Louisville        9.0       Creighton\n",
      "2  south        5.0    Michigan       12.0    UC San Diego\n",
      "3  south        4.0   Texas A&M       13.0            Yale\n",
      "4  south        6.0    Ole Miss       11.0  North Carolina\n"
     ]
    }
   ],
   "source": [
    "bracket_expand = pd. read_csv(\"data/ExpandedBracket2025.csv\")\n",
    "print(bracket_expand.head())"
   ]
  },
  {
   "cell_type": "code",
   "execution_count": null,
   "id": "3f0b48e1-ef48-419c-99a4-2c3794ec657b",
   "metadata": {},
   "outputs": [],
   "source": []
  }
 ],
 "metadata": {
  "kernelspec": {
   "display_name": "Python [conda env:base] *",
   "language": "python",
   "name": "conda-base-py"
  },
  "language_info": {
   "codemirror_mode": {
    "name": "ipython",
    "version": 3
   },
   "file_extension": ".py",
   "mimetype": "text/x-python",
   "name": "python",
   "nbconvert_exporter": "python",
   "pygments_lexer": "ipython3",
   "version": "3.12.7"
  }
 },
 "nbformat": 4,
 "nbformat_minor": 5
}
